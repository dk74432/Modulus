{
 "cells": [
  {
   "cell_type": "markdown",
   "metadata": {},
   "source": [
    "<h2 style=\"color:Red\">Lecture 10 Regular Expression - Coding Problems</h2>"
   ]
  },
  {
   "cell_type": "markdown",
   "metadata": {},
   "source": [
    "<h2 style=\"color:Green\"> THEORY PART</h2>"
   ]
  },
  {
   "cell_type": "markdown",
   "metadata": {},
   "source": [
    "## Q1).What are regular expressions? How are they useful?\n"
   ]
  },
  {
   "cell_type": "markdown",
   "metadata": {},
   "source": [
    "A regular expression (regex or regexp for short) is a special text string for describing a search pattern.\n",
    "\n",
    "#### These are some common use cases of regular expressions:\n",
    "    \n",
    "1).Verify the structure of strings.\n",
    "\n",
    "2).Extract substrings form structured strings.\n",
    "\n",
    "3).Search / replace / rearrange parts of the string.\n",
    "\n",
    "4).Split a string into tokens."
   ]
  },
  {
   "cell_type": "markdown",
   "metadata": {},
   "source": [
    "## Q2).What methods are available in the ‘re’ module in Python?\n"
   ]
  },
  {
   "cell_type": "markdown",
   "metadata": {},
   "source": [
    "#### A) re.match()\n",
    "re.match() function of re in Python will search the regular expression pattern and return the first occurrence.\n",
    "\n",
    "#### B) re.search()\n",
    "The re.search() method takes two arguments: a pattern and a string. The method looks for the first location where the RegEx pattern produces a match with the string.If the search is successful, re.search() returns a match object; if not, it returns None.\n",
    "\n",
    "####  C) re.findall()\n",
    "Program to extract numbers from a string\n",
    "\n",
    "####  D) re.split()\n",
    "The re.split method splits the string where there is a match and returns a list of strings where the splits have occurred.\n",
    "\n",
    "#### E) re.sub()\n",
    "Program to remove all whitespaces"
   ]
  },
  {
   "cell_type": "markdown",
   "metadata": {},
   "source": [
    "## Q3).Can we use regular expressions to find patterns from a web page?\n"
   ]
  },
  {
   "cell_type": "markdown",
   "metadata": {},
   "source": [
    "Yes,we can use regular expressions to find patterns from a web page.\n",
    "\n",
    "Patterns are all over the web. Using regex, you can locate instances of patterns and extract associated data."
   ]
  },
  {
   "cell_type": "markdown",
   "metadata": {},
   "source": [
    "## Q4).Name three functions used for finding a string from a given text.\n"
   ]
  },
  {
   "cell_type": "code",
   "execution_count": 1,
   "metadata": {},
   "outputs": [
    {
     "data": {
      "text/html": [
       "<div>\n",
       "<style scoped>\n",
       "    .dataframe tbody tr th:only-of-type {\n",
       "        vertical-align: middle;\n",
       "    }\n",
       "\n",
       "    .dataframe tbody tr th {\n",
       "        vertical-align: top;\n",
       "    }\n",
       "\n",
       "    .dataframe thead th {\n",
       "        text-align: right;\n",
       "    }\n",
       "</style>\n",
       "<table border=\"1\" class=\"dataframe\">\n",
       "  <thead>\n",
       "    <tr style=\"text-align: right;\">\n",
       "      <th></th>\n",
       "      <th>Function</th>\n",
       "      <th>Description</th>\n",
       "    </tr>\n",
       "  </thead>\n",
       "  <tbody>\n",
       "    <tr>\n",
       "      <th>0</th>\n",
       "      <td>upper()</td>\n",
       "      <td>We can convert a string to uppercase in Python...</td>\n",
       "    </tr>\n",
       "    <tr>\n",
       "      <th>1</th>\n",
       "      <td>lower()</td>\n",
       "      <td>This function creates a new string in lowercase.</td>\n",
       "    </tr>\n",
       "    <tr>\n",
       "      <th>2</th>\n",
       "      <td>replace()</td>\n",
       "      <td>Python string replace() function is used to cr...</td>\n",
       "    </tr>\n",
       "  </tbody>\n",
       "</table>\n",
       "</div>"
      ],
      "text/plain": [
       "    Function                                        Description\n",
       "0    upper()  We can convert a string to uppercase in Python...\n",
       "1    lower()   This function creates a new string in lowercase.\n",
       "2  replace()  Python string replace() function is used to cr..."
      ]
     },
     "execution_count": 1,
     "metadata": {},
     "output_type": "execute_result"
    }
   ],
   "source": [
    "import pandas as pd\n",
    "functions=pd.read_csv(r\"D:\\DATA SCIENTIST & AI\\GO modulus\\Txt  & Exl files\\String Function.csv\")\n",
    "functions"
   ]
  },
  {
   "cell_type": "markdown",
   "metadata": {},
   "source": [
    "## Q5).Describe any ten metacharacters with examples.\n"
   ]
  },
  {
   "cell_type": "code",
   "execution_count": 2,
   "metadata": {},
   "outputs": [
    {
     "data": {
      "text/html": [
       "<div>\n",
       "<style scoped>\n",
       "    .dataframe tbody tr th:only-of-type {\n",
       "        vertical-align: middle;\n",
       "    }\n",
       "\n",
       "    .dataframe tbody tr th {\n",
       "        vertical-align: top;\n",
       "    }\n",
       "\n",
       "    .dataframe thead th {\n",
       "        text-align: right;\n",
       "    }\n",
       "</style>\n",
       "<table border=\"1\" class=\"dataframe\">\n",
       "  <thead>\n",
       "    <tr style=\"text-align: right;\">\n",
       "      <th></th>\n",
       "      <th>Metacharacter</th>\n",
       "      <th>Action</th>\n",
       "      <th>Example</th>\n",
       "      <th>Text</th>\n",
       "    </tr>\n",
       "  </thead>\n",
       "  <tbody>\n",
       "    <tr>\n",
       "      <th>0</th>\n",
       "      <td>[]</td>\n",
       "      <td>A set of characters</td>\n",
       "      <td>\"[a-m]\"</td>\n",
       "      <td>\"The rain in Spain\"</td>\n",
       "    </tr>\n",
       "    <tr>\n",
       "      <th>1</th>\n",
       "      <td>\\</td>\n",
       "      <td>Signals a special sequence (can also be used t...</td>\n",
       "      <td>\"\\d\"</td>\n",
       "      <td>\"That will be 59 dollars\"</td>\n",
       "    </tr>\n",
       "    <tr>\n",
       "      <th>2</th>\n",
       "      <td>.</td>\n",
       "      <td>Any character (except newline character)</td>\n",
       "      <td>\"he..o\"</td>\n",
       "      <td>\"hello world\"</td>\n",
       "    </tr>\n",
       "    <tr>\n",
       "      <th>3</th>\n",
       "      <td>^</td>\n",
       "      <td>Starts with</td>\n",
       "      <td>\"^hello\"</td>\n",
       "      <td>\"hello world\"</td>\n",
       "    </tr>\n",
       "    <tr>\n",
       "      <th>4</th>\n",
       "      <td>$</td>\n",
       "      <td>Ends with</td>\n",
       "      <td>\"world$\"</td>\n",
       "      <td>\"hello world\"</td>\n",
       "    </tr>\n",
       "    <tr>\n",
       "      <th>5</th>\n",
       "      <td>*</td>\n",
       "      <td>Zero or more occurrences</td>\n",
       "      <td>\"aix*\"</td>\n",
       "      <td>\"The rain in Spain falls mainly in the plain!\"</td>\n",
       "    </tr>\n",
       "    <tr>\n",
       "      <th>6</th>\n",
       "      <td>+</td>\n",
       "      <td>One or more occurrences</td>\n",
       "      <td>\"aix+\"</td>\n",
       "      <td>\"The rain in Spain falls mainly in the plain!\"</td>\n",
       "    </tr>\n",
       "    <tr>\n",
       "      <th>7</th>\n",
       "      <td>{}</td>\n",
       "      <td>Exactly the specified number of occurrences</td>\n",
       "      <td>\"al{2}\"</td>\n",
       "      <td>\"The rain in Spain falls mainly in the plain!\"</td>\n",
       "    </tr>\n",
       "    <tr>\n",
       "      <th>8</th>\n",
       "      <td>|</td>\n",
       "      <td>Either or</td>\n",
       "      <td>\"falls|stay\"</td>\n",
       "      <td>\"The rain in Spain falls mainly in the plain!\"</td>\n",
       "    </tr>\n",
       "    <tr>\n",
       "      <th>9</th>\n",
       "      <td>()</td>\n",
       "      <td>Capture and group</td>\n",
       "      <td>[\"in\",\"in\",\"in\",\"in\",\"in\"]</td>\n",
       "      <td>\"The rain in Spain falls mainly in the plain!\"</td>\n",
       "    </tr>\n",
       "  </tbody>\n",
       "</table>\n",
       "</div>"
      ],
      "text/plain": [
       "  Metacharacter                                             Action  \\\n",
       "0            []                                A set of characters   \n",
       "1             \\  Signals a special sequence (can also be used t...   \n",
       "2             .           Any character (except newline character)   \n",
       "3             ^                                        Starts with   \n",
       "4             $                                          Ends with   \n",
       "5             *                           Zero or more occurrences   \n",
       "6             +                            One or more occurrences   \n",
       "7            {}        Exactly the specified number of occurrences   \n",
       "8             |                                          Either or   \n",
       "9            ()                                  Capture and group   \n",
       "\n",
       "                      Example                                            Text  \n",
       "0                     \"[a-m]\"                             \"The rain in Spain\"  \n",
       "1                        \"\\d\"                       \"That will be 59 dollars\"  \n",
       "2                     \"he..o\"                                   \"hello world\"  \n",
       "3                    \"^hello\"                                   \"hello world\"  \n",
       "4                    \"world$\"                                   \"hello world\"  \n",
       "5                      \"aix*\"  \"The rain in Spain falls mainly in the plain!\"  \n",
       "6                      \"aix+\"  \"The rain in Spain falls mainly in the plain!\"  \n",
       "7                     \"al{2}\"  \"The rain in Spain falls mainly in the plain!\"  \n",
       "8                \"falls|stay\"  \"The rain in Spain falls mainly in the plain!\"  \n",
       "9  [\"in\",\"in\",\"in\",\"in\",\"in\"]  \"The rain in Spain falls mainly in the plain!\"  "
      ]
     },
     "execution_count": 2,
     "metadata": {},
     "output_type": "execute_result"
    }
   ],
   "source": [
    "import pandas as pd\n",
    "metacharacters=pd.read_csv(r\"D:\\DATA SCIENTIST & AI\\GO modulus\\Txt  & Exl files\\regex.csv\")\n",
    "metacharacters             "
   ]
  },
  {
   "cell_type": "markdown",
   "metadata": {},
   "source": [
    "<h2 style=\"color:Green\"> CODING PART</h2>"
   ]
  },
  {
   "cell_type": "markdown",
   "metadata": {},
   "source": [
    "## Q1).Write a regular expression which matches strings which starts with a sequence of digits - at least one digit - followed by a blank and after these arbitrary characters.\n"
   ]
  },
  {
   "cell_type": "code",
   "execution_count": 3,
   "metadata": {},
   "outputs": [
    {
     "data": {
      "text/plain": [
       "'^[0-9][0-9] .*'"
      ]
     },
     "execution_count": 3,
     "metadata": {},
     "output_type": "execute_result"
    }
   ],
   "source": [
    "r\"^[0-9][0-9] .*\""
   ]
  },
  {
   "cell_type": "markdown",
   "metadata": {},
   "source": [
    "## Q2).Write a Python program to find sequences of lower case letters joined with an underscore."
   ]
  },
  {
   "cell_type": "code",
   "execution_count": 4,
   "metadata": {},
   "outputs": [
    {
     "name": "stdout",
     "output_type": "stream",
     "text": [
      "Found a match!\n",
      "Found a match!\n",
      "Not matched!\n"
     ]
    }
   ],
   "source": [
    "import re\n",
    "def text_match(text):\n",
    "        patterns = '^[a-z]+_[a-z]+$'\n",
    "        if re.search(patterns,  text):\n",
    "                return 'Found a match!'\n",
    "        else:\n",
    "                return('Not matched!')\n",
    "\n",
    "print(text_match(\"aab_cbbbc\"))\n",
    "print(text_match(\"aab_gbbbc\"))\n",
    "print(text_match(\"Aaab_Abbbc\"))"
   ]
  },
  {
   "cell_type": "markdown",
   "metadata": {},
   "source": [
    "## Q3).Write a Python program that matches a word containing 'z'.\n"
   ]
  },
  {
   "cell_type": "code",
   "execution_count": 5,
   "metadata": {},
   "outputs": [
    {
     "name": "stdout",
     "output_type": "stream",
     "text": [
      "Found a match!\n",
      "Found a match!\n"
     ]
    }
   ],
   "source": [
    "import re\n",
    "def text_match(text):\n",
    "        patterns = '\\w*z.\\w*'\n",
    "        if re.search(patterns,  text):\n",
    "                return 'Found a match!'\n",
    "        else:\n",
    "                return('Not matched!')\n",
    "\n",
    "print(text_match(\"I have a very lazy dog.\"))\n",
    "print(text_match(\"he want to zoo with me.\"))"
   ]
  },
  {
   "cell_type": "markdown",
   "metadata": {},
   "source": [
    "## Q4).Write a Python program to remove all leading zeros' from an IP address."
   ]
  },
  {
   "cell_type": "code",
   "execution_count": 6,
   "metadata": {},
   "outputs": [
    {
     "name": "stdout",
     "output_type": "stream",
     "text": [
      "216.8.94.196\n"
     ]
    }
   ],
   "source": [
    "import re\n",
    "ip = \"216.08.094.196\"\n",
    "string = re.sub('\\.[0]*', '.', ip)\n",
    "print(string)"
   ]
  },
  {
   "cell_type": "markdown",
   "metadata": {},
   "source": [
    "## Q5).Write a Python program to search the numbers (0–9) of length between 1 to 3 in a given string."
   ]
  },
  {
   "cell_type": "code",
   "execution_count": 7,
   "metadata": {},
   "outputs": [
    {
     "name": "stdout",
     "output_type": "stream",
     "text": [
      "Number of length 1 to 3\n",
      "1\n",
      "12\n",
      "234\n",
      "345\n",
      "6\n"
     ]
    }
   ],
   "source": [
    "import re\n",
    "results = re.finditer(r\"([0-9]{1,3})\", \"Exercises number 1,12,234 and 3456 are important\")\n",
    "print(\"Number of length 1 to 3\")\n",
    "for n in results:\n",
    "     print(n.group(0))"
   ]
  },
  {
   "cell_type": "markdown",
   "metadata": {},
   "source": [
    "## Q6).Write a Python program to extract year, month and date from a url."
   ]
  },
  {
   "cell_type": "code",
   "execution_count": 8,
   "metadata": {},
   "outputs": [
    {
     "name": "stdout",
     "output_type": "stream",
     "text": [
      "[('2018', '14', '07')]\n"
     ]
    }
   ],
   "source": [
    "import re\n",
    "def extract_date(url):\n",
    "        return re.findall(r'/(\\d{4})/(\\d{1,2})/(\\d{1,2})/', url)\n",
    "url1= \"https://www.washingtonpost.com/news/football-insider/wp/2018/14/07/odell-beckhams-fame-rests-on-one-stupid-little-ball-josh-norman-tells-author/\"\n",
    "print(extract_date(url1))"
   ]
  },
  {
   "cell_type": "markdown",
   "metadata": {},
   "source": [
    "## Q7).Write a Python program to read a file and to convert a date of yyyy-mm-dd format to dd-mm-yyyy format"
   ]
  },
  {
   "cell_type": "code",
   "execution_count": 9,
   "metadata": {},
   "outputs": [
    {
     "name": "stdout",
     "output_type": "stream",
     "text": [
      "Original date in YYY-MM-DD Format:  2020-10-24\n",
      "New date in DD-MM-YYYY Format:  24-10-2020\n"
     ]
    }
   ],
   "source": [
    "import re\n",
    "def change_date_format(dt):\n",
    "        return re.sub(r'(\\d{4})-(\\d{1,2})-(\\d{1,2})', '\\\\3-\\\\2-\\\\1', dt)\n",
    "dt1 = \"2020-10-24\"\n",
    "print(\"Original date in YYY-MM-DD Format: \",dt1)\n",
    "print(\"New date in DD-MM-YYYY Format: \",change_date_format(dt1))\n"
   ]
  },
  {
   "cell_type": "markdown",
   "metadata": {},
   "source": [
    "## Q8).Write a Python program to abbreviate 'Street' as 'St.' in a given string.\n"
   ]
  },
  {
   "cell_type": "code",
   "execution_count": 13,
   "metadata": {},
   "outputs": [
    {
     "name": "stdout",
     "output_type": "stream",
     "text": [
      "24 Dalal St.\n"
     ]
    }
   ],
   "source": [
    "import re\n",
    "street = '24 Dalal Street'\n",
    "print(re.sub('Street$', 'St.',street))"
   ]
  },
  {
   "cell_type": "markdown",
   "metadata": {},
   "source": [
    "## Q9).Write a Python program to find all five characters long words in a string"
   ]
  },
  {
   "cell_type": "code",
   "execution_count": 12,
   "metadata": {},
   "outputs": [
    {
     "name": "stdout",
     "output_type": "stream",
     "text": [
      "['doing']\n"
     ]
    }
   ],
   "source": [
    "import re\n",
    "text = 'Modulus is doing a excellent job.'\n",
    "print(re.findall(r\"\\b\\w{5}\\b\", text))"
   ]
  },
  {
   "cell_type": "markdown",
   "metadata": {},
   "source": [
    "## Q10). Take a text of around 2000 words from a news web site. From this text find."
   ]
  },
  {
   "cell_type": "code",
   "execution_count": 10,
   "metadata": {},
   "outputs": [],
   "source": [
    "import re\n",
    "import pyperclip\n",
    "\n",
    "text=\"\"\"HALIAH MICROFINANCE COMPANY\n",
    "\n",
    "Description: The Haliah Microfinance Company is a sustainable microfinance institution which provides financial and developmental services to low income citizens to help them grow their enterprises and achieve a higher quality of life, through employing updated techniques and competent employees.\n",
    "\n",
    "Website: https://haliah.com/article/haliah-microfinance/\n",
    "Email: amc@amc.com.jo\n",
    "Tel: 011-6-5865970\n",
    "Address: P.O.Box 23543, Amman 11115\n",
    "\n",
    "\n",
    "BUSINESS AND PROFESSIONAL WOMEN AMMAN (BPWA)\n",
    "\n",
    "Description: TheBPWA is a dynamic business association of dedicated female professionals, established in 1976 by a number of professional and pioneering women in Jordan.\n",
    "\n",
    "Website: http://bpwa-amman.org/en-us/\n",
    "Email: info@bpwa-amman.org; dshuqom@bpwa-amman.org\n",
    "Tel: +962 - 5815305\n",
    "Address: P.O.Box : 926484, Amman, 11190 Jordan\n",
    "\n",
    "\n",
    "BUSINESS DEVELOPMENT CENTRE\n",
    "\n",
    "Description: One of the Business Development Centre’s core objectives is creating employment opportunities and building individual capacities for young people, women and professionals.\n",
    "\n",
    "Website: http://www.bdc.org.jo/Default.aspx\n",
    "Email: info@bdc.org.jo\n",
    "Tel: 011-6-5865002\n",
    "Address: P.O.Box : 941865 Amman 11194 Jordan\n",
    "\n",
    "\n",
    "DEVELOPMENT AND EMPLOYMENT FUND\n",
    "\n",
    "Description: The Development and Employment Fund aims to create independent work opportunities as a way of decreasing the number of poor and un-employed by granting them obtainable loans, and technical and administrative help to enable them to establish small and medium projects to create sustainable employment opportunities.\n",
    "\n",
    "Website: http://www.def.gov.jo\n",
    "Email: def@def.gov.jo\n",
    "Tel: +962 6 461 8851\n",
    "Address: Al Abdali, Mones Al-Razaz Street, near the Capital Police Station, Building No. 16\n",
    "\n",
    "\n",
    "FINCA JORDAN\n",
    "\n",
    "Description: FINCA Jordan is a community-based bank that profitably and responsibly provides innovative and impactful financial services to enable low-income individuals and communities to invest in their futures.\n",
    "\n",
    "Website: http://www.finca.jo/en/\n",
    "Email: info@FINCA.jo\n",
    "Tel: +962-6-5373070/1\n",
    "Address: Office No. 22 & 23 | 4th floor Durret Khalda Complex No. 324 | Khalda| Amman\n",
    "\n",
    "\n",
    "GENERAL FEDERATION OF JORDANIAN WOMEN\n",
    "\n",
    "Description: The federation works on improving political, economic and social skills and the potential of Jordanian women. It develops and improves the self-competence of women by means of training and rehabilitation, and increases women's contribution in economic, social and political areas.\n",
    "\n",
    "Website: http://gfjw.org.jo/\n",
    "Email: gfjw@orange.jo; nicw@gfjw.index.com.jo\n",
    "Tel: +962 6 567 4257 / +962 6 567 0325\n",
    "\n",
    "\n",
    "INJAZ\n",
    "\n",
    "Description: INJAZ's goal is to inspire and prepare young people to become productive members of their society and accelerate the development of the national economy.\n",
    "\n",
    "Website: http://www.injaz.org.jo/Default.aspx\n",
    "Email: Contact form on the website\n",
    "Tel: +962 6 565 7410 / +962 6 565 7409\n",
    "Address: P.O. Box: 910542, Amman 11191, Jordan\n",
    "\n",
    "\n",
    "JEDCO\n",
    "\n",
    "Description: JEDCO works at supporting the development of emerging businesses and small- and medium-sized enterprises in Jordan.\n",
    "\n",
    "Website: http://www.jedco.gov.jo/default.aspx\n",
    "Email: jedco@jedco.gov.jo\n",
    "Tel: +962 6 560 3507\n",
    "Address: Jordan Enterprise Development Corporation JEDCO, Ekremah Al Qurashi St 1, Amman, Jordan\n",
    "\n",
    "\n",
    "JORDAN FORUM FOR BUSINESS & PROFESSIONAL WOMEN\n",
    "\n",
    "Description: The Jordan Forum for Business & Professional Women is a non-profit business association that was established in 1976 for the purpose of serving Jordanian business and professional women, and increasing their contribution to the development of the national economy of Jordan.\n",
    "\n",
    "Website: http://www.bpwa.org.jo/\n",
    "Email: Daisy123@bpwa.org.jo\n",
    "Tel: +962 6 5511647/8\n",
    "Address: Wasfi Al Tall St. – Da’san Centre – path No. 9-P.O.Box: 910415 Amman 11191 Jordan\n",
    "\n",
    "\n",
    "JORDAN INVESTMENT BOARD (JIC)\n",
    "\n",
    "Description: The JIC is the lead governmental agency promoting Jordan as an investment destination and exporter. It provides the highest possible levels of service and support to investors, and guides those investors through the nation’s legislative and institutional framework.\n",
    "\n",
    "Website: https://jic.gov.jo/portal\n",
    "Email: info@jic.gov.jo\n",
    "Tel: +962 (6) 5608400/415\n",
    "Address: Hamzah Bin Nusir Street-P.O.Box 893 Amman 11821 Jordan\n",
    "\n",
    "\n",
    "JORDAN LOAN GUARANTEE CORP (JLGC)\n",
    "\n",
    "Description: TheJLGC aims to provide the necessary guarantees to facilitate the financing of small- and medium-sized enterprises and national export, to contribute to the process of economic growth, job creation and national export encouragement.\n",
    "\n",
    "Website: http://www.jlgc.com\n",
    "Email: mail@jlgc.com\n",
    "Tel: +962 (6) 5625400\n",
    "Address: H43-Park Avenue Prince Shaker Bin Zaid Street, Al Shmeisani-P.O.Box 830703, Amman 11183 Jordan\n",
    "\n",
    "\n",
    "JORDANIAN NATIONAL COMISSION FOR WOMEN (JNCW)\n",
    "\n",
    "Description: The JNCW′s mission is to support the mainstreaming of a gender-equality perspective in all policy areas and to narrow the gap between formal acknowledgement of women′s rights as detailed by legislation and societal attitudes towards women.\n",
    "\n",
    "Website: http://www.women.jo/\n",
    "Email: jncw@nets.com.jo; ashjan@jncw.jo;amal_haddadin@yahoo.co.uk\n",
    "Tel: +962 6 5526768\n",
    "Address: P.O.Pox 5118, Amman 11183,Jordan\n",
    "\n",
    "\n",
    "JORDANIAN WOMEN'S UNION (JWU)\n",
    "\n",
    "Description: The Jordanian Women’s Union (JWU), headquartered in Amman, is a non-governmental, democratically elected organisation that is committed to improving the status of women. It is one of the most prominent and influential women’s organisations in the Arab world and has established strong networks with women’s movements, both nationally and internationally.\n",
    "\n",
    "Website: http://jwu.org.jo/Home.aspx?lng=1\n",
    "Email: jwu@go.com.jo\n",
    "Tel: +962 (6) 568 7037\n",
    "Address: Jabal Al Hussein – Safad Street, Amman\n",
    "\n",
    "\n",
    "MICROFUND FOR WOMEN\n",
    "\n",
    "Description: The Microfund for Women provides financial services to low-income population, small business owners (especially women) in Jordan in order to empower them economically and socially.\n",
    "\n",
    "Website: http://www.microfund.org.jo/\n",
    "Email: info@microfund.org.jo\n",
    "Tel: +962 6 566 6100\n",
    "Address: H23, Wadi Saqra - Arar Street\n",
    "\n",
    "\n",
    "NATIONAL FUND FOR ENTREPRISE SUPPORT (NAFES)\n",
    "\n",
    "Description: The funds’ mission is to promote SME's contribution to social wellbeing.\n",
    "\n",
    "Website: http://www.nafes.org.jo\n",
    "Email: nafes@nafes.org.jo\n",
    "Tel: +962 6 53 338 95/ +962 6 5342544\n",
    "Address: PO BOX 1985 Amman 11953 Jordan\n",
    "\n",
    "\n",
    "NATIONAL MICROFINANCE BANK\n",
    "\n",
    "Description: The National MicroFinance Bank provides lending services for micro-, small- and medium-sized enterprises, as well as the basic necessities of ordinary Jordanian citizens/families in the areas of home improvement and education.\n",
    "\n",
    "Website: http://www.nmb.com.jo/?lang=en\n",
    "Email: info@nmb.com.jo\n",
    "Tel: +962 7 9 877 7733\n",
    "Address: National MicroFinance Bank NMB, Al Yarmok Complex, Al Yarmouk St 271, Amman, Jordan\n",
    "\n",
    "\n",
    "NOOR AL HUSEIN FOUNDATION (NHF)\n",
    "\n",
    "Description: NHF's programmes are designed to have the broadest reach possible and provide people with the resources, tools and opportunities that enable them to take independent initiatives, and empower themselves socially, economically and personally. Several NHF programmes have grown to become leading institutions in Jordan and the region, in the fields of family health, microfinance, women's empowerment and sustainable community development.\n",
    "\n",
    "Website: http://www.nooralhusseinfoundation.org\n",
    "Email: khf-nhf@khf.org.jo; aram.84.jo@yahoo.com\n",
    "Tel: +962 6 560 7460\n",
    "Address: P.O. Box 926687, Amman 11110, Jordan\n",
    "\n",
    "\n",
    "QUEEN RANIA CENTRE FOR ENTREPRENEURSHIP\n",
    "\n",
    "Description: The Queen Rania Centre for Entrepreneurship provides services such as Networking, Recognition & Awareness, Capacity Building & Support, and Funding for Entrepreneurship\n",
    "\n",
    "Website: http://www.qrce.org/index.php?lang=en\n",
    "Email: info@qrce.org\n",
    "Tel: + 962 6 5359 949 EXT (172 / 173)\n",
    "Address: P.O. Box 1438 Jubiha, Amman 11941 Jordan\n",
    "\n",
    "\n",
    "TAMWEELCOM\n",
    "\n",
    "Description: Tamweelcom provides a variety of financial solutions, products and services to productive, low-income, unbanked individuals who are overlooked by mainstream financial institutions, and support their personal or business needs and ensure success and financial inclusion for all.\n",
    "\n",
    "Website: http://www.tamweelcom.org/\n",
    "Email: info@tamweelcom.org\n",
    "Tel: +962 6 5354336\n",
    "Address: 2nd Floor, Fardous Complex, King Abdullah II Street, Sweileh Road, Amman, Jordan\n",
    "\n",
    "\n",
    "THE INTERNATIONAL WOMEN’S FORUM JORDAN CHAPTER (IWF Jordan)\n",
    "\n",
    "Description: The IWF Jordan Chapter is comprised of 46 dynamic women leaders from a variety of fields committed to building better leadership. IWF Jordan was registered in 2003 in Amman under the patronage of Her Majesty Queen Rania Al Abdullah. It provides a platform for its members to meet on a monthly basis among peers.\n",
    "\n",
    "Website: http://www.iwfjo.org/default.aspx\n",
    "Email: director@iwfjordanchapter.com\n",
    "Tel: +962 77 6000159\n",
    "Address: Al-Shareef Abd Al-Hameedh Sharaf St. Shmesani - Bldg. #24 - First Floor\n",
    "\n",
    " \n",
    "\n",
    "WOMEN ON BOARDS - JORDAN\n",
    "\n",
    "Description: The Association aims at increasing the number of professional Jordanian women who have the ambition and potential to obtain seats on the boards and to assume leadership positions in all fields in the public and private sector.\n",
    "\n",
    "Website: www.wobsjo.com\n",
    "Facebook: https://www.facebook.com/groups/402184177191371/\n",
    "Email: info@wobsjo.com\n",
    "Tel: +962 5931261\n",
    "Address: Amman –5th circle Abdul Rahman Halawih St. Building # 16 –Next to the Bristol Hotel, P.O.Box 223 - 11831 Amman Jordan\"\"\"\n"
   ]
  },
  {
   "cell_type": "markdown",
   "metadata": {},
   "source": [
    "## (A).The email IDs of all the people who have their mail at the Yahoo server."
   ]
  },
  {
   "cell_type": "code",
   "execution_count": 4,
   "metadata": {},
   "outputs": [
    {
     "data": {
      "text/plain": [
       "['amal_haddadin@yahoo.co.uk', 'aram.84.jo@yahoo.com']"
      ]
     },
     "execution_count": 4,
     "metadata": {},
     "output_type": "execute_result"
    }
   ],
   "source": [
    "findEmail = re.findall(r\"[\\w\\.-]+@yahoo[\\w\\.-]+\", text)\n",
    "findEmail"
   ]
  },
  {
   "cell_type": "markdown",
   "metadata": {},
   "source": [
    "## (B).The phone number of people living in Jordan (the phone number starts from 011-)"
   ]
  },
  {
   "cell_type": "code",
   "execution_count": 5,
   "metadata": {},
   "outputs": [
    {
     "name": "stdout",
     "output_type": "stream",
     "text": [
      "['011-6-5865970', '011-6-5865002']\n"
     ]
    }
   ],
   "source": [
    "import re\n",
    "Phonenumber=re.compile(r'011-\\d-\\d\\d\\d\\d\\d\\d\\d')\n",
    "print(Phonenumber.findall(text))"
   ]
  },
  {
   "cell_type": "markdown",
   "metadata": {},
   "source": [
    "## (C).The code that begins with an “H,” has two digits after “H” and any number of characters after the digits."
   ]
  },
  {
   "cell_type": "code",
   "execution_count": 6,
   "metadata": {},
   "outputs": [
    {
     "name": "stdout",
     "output_type": "stream",
     "text": [
      "['H43-', 'H23,']\n"
     ]
    }
   ],
   "source": [
    "x = re.findall(\"H\\d\\d+.\", text)\n",
    "print(x)"
   ]
  },
  {
   "cell_type": "markdown",
   "metadata": {},
   "source": [
    "## (D) All the occurrences of the names that begin with an “H” and ends with an “h.”"
   ]
  },
  {
   "cell_type": "code",
   "execution_count": 7,
   "metadata": {},
   "outputs": [
    {
     "name": "stdout",
     "output_type": "stream",
     "text": [
      "['Hameedh', 'Halawih']\n"
     ]
    }
   ],
   "source": [
    "x = re.findall(\"H.....h\", text)\n",
    "print(x)"
   ]
  },
  {
   "cell_type": "markdown",
   "metadata": {},
   "source": [
    "## (E).“Daisy” followed by three digits from the given text."
   ]
  },
  {
   "cell_type": "code",
   "execution_count": 9,
   "metadata": {},
   "outputs": [
    {
     "name": "stdout",
     "output_type": "stream",
     "text": [
      "['Daisy123']\n"
     ]
    }
   ],
   "source": [
    "import re\n",
    "x = re.findall(\"Daisy\\d\\d\\d\", text)\n",
    "print(x)"
   ]
  },
  {
   "cell_type": "markdown",
   "metadata": {},
   "source": [
    "<h2 style=\"color:Orange\"> THE END</h2>"
   ]
  }
 ],
 "metadata": {
  "kernelspec": {
   "display_name": "Python 3",
   "language": "python",
   "name": "python3"
  },
  "language_info": {
   "codemirror_mode": {
    "name": "ipython",
    "version": 3
   },
   "file_extension": ".py",
   "mimetype": "text/x-python",
   "name": "python",
   "nbconvert_exporter": "python",
   "pygments_lexer": "ipython3",
   "version": "3.8.3"
  }
 },
 "nbformat": 4,
 "nbformat_minor": 4
}
