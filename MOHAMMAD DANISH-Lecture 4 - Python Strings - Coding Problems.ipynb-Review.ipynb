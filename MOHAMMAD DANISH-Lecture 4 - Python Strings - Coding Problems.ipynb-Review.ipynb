{
 "cells": [
  {
   "cell_type": "markdown",
   "metadata": {},
   "source": [
    "## Lecture 4 - Python Strings - Coding Problems"
   ]
  },
  {
   "cell_type": "markdown",
   "metadata": {},
   "source": [
    "## Q1(a)"
   ]
  },
  {
   "cell_type": "markdown",
   "metadata": {},
   "source": [
    "Correct"
   ]
  },
  {
   "cell_type": "code",
   "execution_count": 1,
   "metadata": {},
   "outputs": [
    {
     "name": "stdout",
     "output_type": "stream",
     "text": [
      "nohtyP htiw ecneicS ataD\n"
     ]
    }
   ],
   "source": [
    "def my_function(x):\n",
    "    return x[::-1]\n",
    "\n",
    "mytxt = my_function(\"Data Science with Python\")\n",
    "print(mytxt)"
   ]
  },
  {
   "cell_type": "markdown",
   "metadata": {},
   "source": [
    "## Q1(b)"
   ]
  },
  {
   "cell_type": "markdown",
   "metadata": {},
   "source": [
    "Correct"
   ]
  },
  {
   "cell_type": "code",
   "execution_count": 5,
   "metadata": {},
   "outputs": [
    {
     "name": "stdin",
     "output_type": "stream",
     "text": [
      "Enter any character:  ab\n"
     ]
    },
    {
     "data": {
      "text/plain": [
       "195"
      ]
     },
     "execution_count": 5,
     "metadata": {},
     "output_type": "execute_result"
    }
   ],
   "source": [
    "String = input(\"Enter any character: \")\n",
    "sum(ord(ch) for ch in String)"
   ]
  },
  {
   "cell_type": "markdown",
   "metadata": {},
   "source": [
    "## Q1(c)"
   ]
  },
  {
   "cell_type": "markdown",
   "metadata": {},
   "source": [
    "Correct"
   ]
  },
  {
   "cell_type": "code",
   "execution_count": 6,
   "metadata": {},
   "outputs": [
    {
     "name": "stdin",
     "output_type": "stream",
     "text": [
      "Enter the password: data\n",
      "Enter the count: 5\n"
     ]
    },
    {
     "name": "stdout",
     "output_type": "stream",
     "text": [
      "ifyf\n"
     ]
    }
   ],
   "source": [
    "String = input(\"Enter the password:\")\n",
    "count = int(input(\"Enter the count:\"))\n",
    "final_string = \"\"\n",
    "for x in list(String):\n",
    "    y = chr(ord(x) + count)\n",
    "    final_string = final_string + y\n",
    "print(final_string)"
   ]
  },
  {
   "cell_type": "markdown",
   "metadata": {},
   "source": [
    "## Q1(d)"
   ]
  },
  {
   "cell_type": "markdown",
   "metadata": {},
   "source": [
    "Correct"
   ]
  },
  {
   "cell_type": "code",
   "execution_count": 4,
   "metadata": {},
   "outputs": [
    {
     "data": {
      "text/plain": [
       "'ncescie'"
      ]
     },
     "execution_count": 4,
     "metadata": {},
     "output_type": "execute_result"
    }
   ],
   "source": [
    "def rotate(strg, n):\n",
    "    return strg[n:] + strg[:n]\n",
    "\n",
    "rotate('science', -3)"
   ]
  },
  {
   "cell_type": "markdown",
   "metadata": {},
   "source": [
    "## Q2(a)"
   ]
  },
  {
   "cell_type": "markdown",
   "metadata": {},
   "source": [
    "Correct"
   ]
  },
  {
   "cell_type": "code",
   "execution_count": 5,
   "metadata": {},
   "outputs": [
    {
     "name": "stdout",
     "output_type": "stream",
     "text": [
      "Enter the word:madam\n",
      "True\n"
     ]
    }
   ],
   "source": [
    "a=input(\"Enter the word:\")\n",
    "b=a[-1::-1]\n",
    "if(a==b):\n",
    "    print(\"True\")\n",
    "else:\n",
    "    print(\"False\")"
   ]
  },
  {
   "cell_type": "markdown",
   "metadata": {},
   "source": [
    "## Q2(b)"
   ]
  },
  {
   "cell_type": "markdown",
   "metadata": {},
   "source": [
    "Correct"
   ]
  },
  {
   "cell_type": "code",
   "execution_count": 16,
   "metadata": {},
   "outputs": [
    {
     "name": "stdout",
     "output_type": "stream",
     "text": [
      "False\n"
     ]
    }
   ],
   "source": [
    "def isPalindrome(str):\n",
    " \n",
    " # Run loop from 0 to len/2 \n",
    "    for i in range(0, int(len(str)/2)): \n",
    "        if str[i] != str[len(str)-i-1]:\n",
    "            return False\n",
    "    return True\n",
    "# main function\n",
    "s = \"abcde\"\n",
    "ans = isPalindrome(s)\n",
    " \n",
    "if (ans):\n",
    "    print(\"True\")\n",
    "else:\n",
    "    print(\"False\")"
   ]
  },
  {
   "cell_type": "markdown",
   "metadata": {},
   "source": [
    "## Q3"
   ]
  },
  {
   "cell_type": "markdown",
   "metadata": {},
   "source": [
    "Correct"
   ]
  },
  {
   "cell_type": "code",
   "execution_count": 17,
   "metadata": {},
   "outputs": [
    {
     "name": "stdin",
     "output_type": "stream",
     "text": [
      "Enter first string: a b c d\n",
      "Enter second string: abcd\n"
     ]
    },
    {
     "name": "stdout",
     "output_type": "stream",
     "text": [
      "The common letters are: ['a', 'b', 'd', 'c']\n"
     ]
    }
   ],
   "source": [
    "str_s1=input(\"Enter first string:\")\n",
    "str_s2=input(\"Enter second string:\")\n",
    "s1=set(str_s1)\n",
    "s2=set(str_s2)\n",
    "List=list(s1&s2)\n",
    "print(\"The common letters are: {}\".format(List))"
   ]
  },
  {
   "cell_type": "markdown",
   "metadata": {},
   "source": [
    "## Q4"
   ]
  },
  {
   "cell_type": "markdown",
   "metadata": {},
   "source": [
    "## For (Vowels,Consonants,Digit,Blank Space & Length of String)"
   ]
  },
  {
   "cell_type": "markdown",
   "metadata": {},
   "source": [
    "Correct"
   ]
  },
  {
   "cell_type": "code",
   "execution_count": 19,
   "metadata": {
    "scrolled": true
   },
   "outputs": [
    {
     "name": "stdout",
     "output_type": "stream",
     "text": [
      "Vowels: 5\n",
      "Consonant: 0\n",
      "Digit: 5\n",
      "Blank Space: 5\n",
      "Length of the input string is: 15\n"
     ]
    }
   ],
   "source": [
    "def countCharacterType(str):\n",
    "  \n",
    " # Vowels, Consonants, Blank Space, Digit and Length of the input string\n",
    "    # characters \n",
    "    vowels = 0\n",
    "    consonant = 0\n",
    "    blank_space= 0\n",
    "    digit = 0\n",
    "   \n",
    "    for i in range(0, len(str)):  \n",
    "          \n",
    "        ch = str[i]  \n",
    "  \n",
    "        if ( (ch >= 'a' and ch <= 'z') or \n",
    "             (ch >= 'A' and ch <= 'Z') ):  \n",
    "  \n",
    "            # To handle upper case letters \n",
    "            ch = ch.lower() \n",
    "  \n",
    "            if (ch == 'a' or ch == 'e' or ch == 'i' \n",
    "                        or ch == 'o' or ch == 'u'): \n",
    "                vowels += 1\n",
    "            else: \n",
    "                consonant += 1\n",
    "          \n",
    "        elif (ch >= '0' and ch <= '9'): \n",
    "            digit += 1\n",
    "\n",
    "        else: \n",
    "            blank_space+= 1\n",
    " # Length of String           \n",
    "            string_length = 0\n",
    "\n",
    "            for s in str:\n",
    "               string_length  =string_length +1\n",
    "                \n",
    "                \n",
    "    print(\"Vowels:\", vowels) \n",
    "    print(\"Consonant:\", consonant)  \n",
    "    print(\"Digit:\", digit)  \n",
    "    print(\"Blank Space:\",blank_space) \n",
    "    print(\"Length of the input string is:\", string_length )\n",
    "\n",
    "\n",
    "\n",
    "##Driver function. \n",
    "str = \"a e i o u 99999\"\n",
    "countCharacterType(str)  \n",
    "                \n"
   ]
  },
  {
   "cell_type": "markdown",
   "metadata": {},
   "source": [
    "## for no of words"
   ]
  },
  {
   "cell_type": "code",
   "execution_count": 9,
   "metadata": {},
   "outputs": [
    {
     "name": "stdout",
     "output_type": "stream",
     "text": [
      "Enter a string : \"Data Science with Python\"\n",
      "Total words : 4\n"
     ]
    }
   ],
   "source": [
    "\n",
    "word_count = 0\n",
    "char_count = 0\n",
    "\n",
    "\n",
    "str = input(\"Enter a string : \")\n",
    "\n",
    "\n",
    "split_string = str.split()\n",
    "\n",
    "\n",
    "word_count = len(split_string)\n",
    "\n",
    "\n",
    "for word in split_string:\n",
    "    \n",
    "    char_count += len(word)\n",
    "\n",
    "\n",
    "print(\"Total words : {}\".format(word_count))"
   ]
  },
  {
   "cell_type": "markdown",
   "metadata": {},
   "source": [
    "## for (total number of uppercase letters )"
   ]
  },
  {
   "cell_type": "code",
   "execution_count": 8,
   "metadata": {},
   "outputs": [
    {
     "name": "stdout",
     "output_type": "stream",
     "text": [
      "No. of Upper case characters :  4\n"
     ]
    }
   ],
   "source": [
    "def string_test(s):\n",
    "    d={\"UPPER_CASE\":0}\n",
    "    for c in s:\n",
    "        if c.isupper():\n",
    "            d[\"UPPER_CASE\"]+=1\n",
    "        else:\n",
    "            pass\n",
    "    print (\"No. of Upper case characters : \", d[\"UPPER_CASE\"])\n",
    "string_test(\"Data Science With Python\")"
   ]
  },
  {
   "cell_type": "markdown",
   "metadata": {},
   "source": [
    "## Q5"
   ]
  },
  {
   "cell_type": "markdown",
   "metadata": {},
   "source": [
    "Correct"
   ]
  },
  {
   "cell_type": "code",
   "execution_count": 9,
   "metadata": {},
   "outputs": [
    {
     "name": "stdout",
     "output_type": "stream",
     "text": [
      "dATA sCIENCE wITH pYTHON\n"
     ]
    }
   ],
   "source": [
    "string = \"Data Science With Python\"\n",
    "print(string.swapcase())"
   ]
  },
  {
   "cell_type": "markdown",
   "metadata": {},
   "source": [
    "## Q6"
   ]
  },
  {
   "cell_type": "markdown",
   "metadata": {},
   "source": [
    "Correct"
   ]
  },
  {
   "cell_type": "code",
   "execution_count": 21,
   "metadata": {},
   "outputs": [
    {
     "name": "stdout",
     "output_type": "stream",
     "text": [
      "1000001 1000010 1000011\n"
     ]
    }
   ],
   "source": [
    "# utility function \n",
    "def strToBinary(s): \n",
    "    bin_conv = [] \n",
    "  \n",
    "    for c in s: \n",
    "          \n",
    "        # convert each char to \n",
    "        # ASCII value \n",
    "        ascii_val = ord(c) \n",
    "          \n",
    "        # Convert ASCII value to binary \n",
    "        binary_val = bin(ascii_val) \n",
    "        bin_conv.append(binary_val[2:]) \n",
    "          \n",
    "    return (' '.join(bin_conv)) \n",
    "  \n",
    "# Driver Code \n",
    "if __name__ == '__main__': \n",
    "    s = 'ABC'\n",
    "  \n",
    "print (strToBinary(s)) "
   ]
  },
  {
   "cell_type": "markdown",
   "metadata": {},
   "source": [
    "## Q7"
   ]
  },
  {
   "cell_type": "markdown",
   "metadata": {},
   "source": [
    "Correct"
   ]
  },
  {
   "cell_type": "code",
   "execution_count": 1,
   "metadata": {},
   "outputs": [
    {
     "name": "stdout",
     "output_type": "stream",
     "text": [
      "['4', '@', 'd', 'l', 'M', 'o', 's', 'u', 'u']\n",
      "['2', '9', '@', 'a', 'D', 'h', 'i', 'n', 's']\n"
     ]
    }
   ],
   "source": [
    "def lexicographical_sort(s):\n",
    "    return sorted(sorted(s), key=str.upper)\n",
    "\n",
    "print(lexicographical_sort('Modulus@4'))\n",
    "print(lexicographical_sort('Danish29@'))"
   ]
  },
  {
   "cell_type": "markdown",
   "metadata": {},
   "source": [
    "## Q8"
   ]
  },
  {
   "cell_type": "markdown",
   "metadata": {},
   "source": [
    "Reattempt\n",
    "\n",
    "Try without built in methods"
   ]
  },
  {
   "cell_type": "code",
   "execution_count": 5,
   "metadata": {},
   "outputs": [
    {
     "name": "stdout",
     "output_type": "stream",
     "text": [
      "abxyfgh.\n"
     ]
    }
   ],
   "source": [
    "text = \"abcdefgh.\"\n",
    "print(text.replace('cde', 'xy'))"
   ]
  },
  {
   "cell_type": "markdown",
   "metadata": {},
   "source": [
    "## THE END"
   ]
  }
 ],
 "metadata": {
  "kernelspec": {
   "display_name": "Python 3",
   "language": "python",
   "name": "python3"
  },
  "language_info": {
   "codemirror_mode": {
    "name": "ipython",
    "version": 3
   },
   "file_extension": ".py",
   "mimetype": "text/x-python",
   "name": "python",
   "nbconvert_exporter": "python",
   "pygments_lexer": "ipython3",
   "version": "3.7.6"
  }
 },
 "nbformat": 4,
 "nbformat_minor": 4
}
