{
 "cells": [
  {
   "cell_type": "markdown",
   "metadata": {},
   "source": [
    "<h2 style=\"color:Red\">MINI_PROJECT-4-(Cryptography)</h2>"
   ]
  },
  {
   "cell_type": "markdown",
   "metadata": {},
   "source": [
    "<h2 style=\"color:Brown\">  Caesar Cipher </h2>"
   ]
  },
  {
   "cell_type": "code",
   "execution_count": 2,
   "metadata": {},
   "outputs": [
    {
     "name": "stdout",
     "output_type": "stream",
     "text": [
      "Enter a message to be encrypted: MODULUS IS GOOD\n",
      "Enter an offset: 3\n",
      "\t\n",
      "Your original message: MODULUS IS GOOD\n",
      "Your encrypted message:  PRGXOXV LV JRRG\n",
      "\t\n"
     ]
    }
   ],
   "source": [
    "message = input(\"Enter a message to be encrypted: \") # user inputs message to be encrypted\n",
    "shift = int(input (\"Enter an offset: \")) # user inputs Shift\n",
    "print (\"\\t\")\n",
    "\n",
    "encrypt = \" \" \n",
    "\n",
    "for char in message:\n",
    "    if char == \" \":\n",
    "        encrypt = encrypt + char\n",
    "    elif char.isupper():\n",
    "        encrypt = encrypt + chr((ord(char) + shift - 65) % 26 + 65) # for uppercase Z\n",
    "    else:\n",
    "        encrypt = encrypt + chr((ord(char) + shift - 97) % 26 + 97) # for lowercase z\n",
    "\n",
    "print (\"Your original message:\",message)\n",
    "print (\"Your encrypted message:\",encrypt)\n",
    "print (\"\\t\")"
   ]
  },
  {
   "cell_type": "markdown",
   "metadata": {},
   "source": [
    "<h2 style=\"color:Brown\">  Vigenère Cipher </h2>"
   ]
  },
  {
   "cell_type": "code",
   "execution_count": 1,
   "metadata": {},
   "outputs": [
    {
     "name": "stdout",
     "output_type": "stream",
     "text": [
      "GAPRFGE\n"
     ]
    }
   ],
   "source": [
    "## Plain to Chiper text incuding spaces and punctuation\n",
    "\n",
    "vigenered_message = 'MODULUS'\n",
    "\n",
    "keyword = 'GOOD'\n",
    "\n",
    "def vigenere_decrypt(encrypted_vigener, keyword):\n",
    "    keyword_length = len(keyword)\n",
    "    keyword_as_int = [ord(i) for i in keyword]\n",
    "    encrypted_vigener_int = [ord(i) for i in encrypted_vigener]\n",
    "    plaintext = ''\n",
    "    for i in range(len(encrypted_vigener_int)):\n",
    "        value = (encrypted_vigener_int[i] - keyword_as_int[i % keyword_length]) % 26\n",
    "        plaintext += chr(value + 65)\n",
    "    return plaintext\n",
    "\n",
    "print(vigenere_decrypt(vigenered_message, keyword))"
   ]
  },
  {
   "cell_type": "markdown",
   "metadata": {},
   "source": [
    "<h2 style=\"color:Orange\"> THE END</h2>"
   ]
  }
 ],
 "metadata": {
  "kernelspec": {
   "display_name": "Python 3",
   "language": "python",
   "name": "python3"
  },
  "language_info": {
   "codemirror_mode": {
    "name": "ipython",
    "version": 3
   },
   "file_extension": ".py",
   "mimetype": "text/x-python",
   "name": "python",
   "nbconvert_exporter": "python",
   "pygments_lexer": "ipython3",
   "version": "3.8.3"
  }
 },
 "nbformat": 4,
 "nbformat_minor": 4
}
