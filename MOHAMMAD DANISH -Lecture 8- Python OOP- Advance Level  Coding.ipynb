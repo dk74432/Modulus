{
 "cells": [
  {
   "cell_type": "markdown",
   "metadata": {},
   "source": [
    "<h2 style=\"color:Red\"> Lecture 8-Advance Coding Test</h2>"
   ]
  },
  {
   "cell_type": "markdown",
   "metadata": {},
   "source": [
    "<h2 style=\"color:Green\"> THEORY PART</h2>"
   ]
  },
  {
   "cell_type": "markdown",
   "metadata": {},
   "source": [
    "## Q1). What are different programming paradigms?"
   ]
  },
  {
   "cell_type": "markdown",
   "metadata": {},
   "source": [
    "#####  A).\n",
    "The imperative programming paradigm :\n",
    "\n",
    "\n",
    "assumes that the computer can maintain through environments of variables any changes in a computation process. Computations are performed through a guided sequence of steps, in which these variables are referred to or changed. The order of the steps is crucial, because a given step will have different consequences depending on the current values of variables when the step is executed."
   ]
  },
  {
   "cell_type": "markdown",
   "metadata": {},
   "source": [
    "#### B).\n",
    "The Logical Paradigm \n",
    "\n",
    "takes a declarative approach to problem-solving. Various logical assertions about a situation are made, establishing all known facts. Then queries are made. The role of the computer becomes maintaining data and logical deduction."
   ]
  },
  {
   "cell_type": "markdown",
   "metadata": {},
   "source": [
    "#### C).\n",
    "The Functional Programming paradigm \n",
    "\n",
    "views all subprograms as functions in the mathematical sense-informally, they take in arguments and return a single solution. The solution returned is based entirely on the input, and the time at which a function is called has no relevance. The computational model is therefore one of function application and reduction."
   ]
  },
  {
   "cell_type": "markdown",
   "metadata": {},
   "source": [
    "#### D).\n",
    "\n",
    "Object Oriented Programming (OOP) is a paradigm \n",
    "\n",
    "OOP in which real-world objects are each viewed as seperate entities having their own state which is modified only by built in procedures, called methods.\n",
    "\n",
    "Because objects operate independently, they are encapsulated into modules which contain both local environments and methods. Communication with an object is done by message passing.\n",
    "\n",
    "Objects are organized into classes, from which they inherit methods and equivalent variables. The object-oriented paradigm provides key benefits of reusable code and code extensibility."
   ]
  },
  {
   "cell_type": "markdown",
   "metadata": {},
   "source": [
    "## Q2).What is a class? What is an object? What is the relation between an object and a class?"
   ]
  },
  {
   "cell_type": "markdown",
   "metadata": {},
   "source": [
    "A Class in Python is a logical grouping of data and functions. It gives the freedom to create data structures that contains arbitrary content and hence easily accessible."
   ]
  },
  {
   "cell_type": "markdown",
   "metadata": {},
   "source": [
    "The object() function returns an empty object. ... This object is the base for all classes, it holds the built-in properties and methods which are default for all classes."
   ]
  },
  {
   "cell_type": "markdown",
   "metadata": {},
   "source": [
    "#### Relation between an object and a class\n",
    "\n",
    "A class is a template for objects. A class defines object properties including a valid range of values, and a default value. A class also describes object behavior. An object is a member or an \"instance\" of a class.\n"
   ]
  },
  {
   "cell_type": "markdown",
   "metadata": {},
   "source": [
    "## Q3).Explain the importance of data hiding. Is it related to the security of the data?"
   ]
  },
  {
   "cell_type": "markdown",
   "metadata": {},
   "source": [
    "Data hiding ensures exclusive data access to class members and protects object integrity by preventing unintended or intended changes. Data hiding also reduces system complexity for increased robustness by limiting interdependencies between software components."
   ]
  },
  {
   "cell_type": "markdown",
   "metadata": {},
   "source": [
    "Yes,it is related to the security of the data.\n",
    "\n",
    "\n",
    "According to Python docs, \"data hiding\" is about isolating the client from (part of) the implementation. Some objects of a module can be internal to the module and invisible and inaccessible to its users. As such, this is a method to avoid dependency and provide security at the same time. The users of an application can know how to use the application but do not need to know how the application works. There is no need to in fact. This method of preventing access to certain users in an application is called data hiding."
   ]
  },
  {
   "cell_type": "markdown",
   "metadata": {},
   "source": [
    "## Q4).Explain the concept of operator overloading and function overloading."
   ]
  },
  {
   "cell_type": "markdown",
   "metadata": {},
   "source": [
    "##### Operator Overloading\n",
    "\n",
    "Operator overloading: Operator overloading, in general, means using the same operator in more than one way.\n",
    "\n",
    "\n",
    "Operator Overloading means giving extended meaning beyond their predefined operational meaning. For example operator + is used to add two integers as well as join two strings and merge two lists. It is achievable because ‘+’ operator is overloaded by int class and str class. You might have noticed that the same built-in operator or function shows different behavior for objects of different classes, this is called Operator"
   ]
  },
  {
   "cell_type": "markdown",
   "metadata": {},
   "source": [
    "#### function overloading\n",
    "\n",
    "Function overloading: This means having more than one function with the same name in a class with different arguments.\n",
    "\n",
    "In python, function overloading is defined as the ability of the function to behave in different ways depend on the number of parameters passed to it like zero, one, two which will depend on how function is defined. Overloading function provides code reusability, removes complexity and improves code clarity to the users who will use or work on it. Function overloading in python can be of two types one is overloading built-in functions and overloading the custom or user-defined functions in python. We will have a look into both of them in the below sections. In general, not every programming language supports function overloading but in this case, python supports functional overloading."
   ]
  },
  {
   "cell_type": "markdown",
   "metadata": {},
   "source": [
    "## Q5).Explain the concept of reusability vis- a-vis object-oriented paradigm"
   ]
  },
  {
   "cell_type": "markdown",
   "metadata": {},
   "source": [
    "The procedural programming came with almost no reusability. Modular programming allowed reusability but only to certain extend. The functions could be used on an “as is basis” in modular programming. In object-oriented\n",
    "programming, the concept of reusability can be used in its full force.\n",
    "\n",
    "A matter of fact, reusability is one of the USPs of the object-oriented paradigm."
   ]
  },
  {
   "cell_type": "markdown",
   "metadata": {},
   "source": [
    "## Q6).What is a destructor?"
   ]
  },
  {
   "cell_type": "markdown",
   "metadata": {},
   "source": [
    "Destroying the Object. Just like a constructor is used to create and initialize an object, a destructor is used to destroy the object and perform the final clean up."
   ]
  },
  {
   "cell_type": "markdown",
   "metadata": {},
   "source": [
    "## Q7).What is inheritance? What are the various types of inheritance?"
   ]
  },
  {
   "cell_type": "markdown",
   "metadata": {},
   "source": [
    "Inheritance is a way of creating a new class for using details of an existing class without modifying it. The newly formed class is a derived class (or child class). Similarly, the existing class is a base class (or parent class)."
   ]
  },
  {
   "cell_type": "markdown",
   "metadata": {},
   "source": [
    "### Types of inheritance"
   ]
  },
  {
   "cell_type": "markdown",
   "metadata": {},
   "source": [
    "###### Single inheritance\n",
    "Single Inheritance\n",
    "When a child class inherits only a single parent class."
   ]
  },
  {
   "cell_type": "markdown",
   "metadata": {},
   "source": [
    "###### Multiple Inheritance\n",
    "When a child class inherits from more than one parent class."
   ]
  },
  {
   "cell_type": "markdown",
   "metadata": {},
   "source": [
    "###### Multilevel Inheritance\n",
    "When a child class becomes a parent class for another child class."
   ]
  },
  {
   "cell_type": "markdown",
   "metadata": {},
   "source": [
    "##### Hierarchical Inheritance\n",
    "Hierarchical inheritance involves multiple inheritance from the same base or parent class."
   ]
  },
  {
   "cell_type": "markdown",
   "metadata": {},
   "source": [
    "###### Hybrid Inheritance\n",
    "Hybrid inheritance involves multiple inheritance taking place in a single program."
   ]
  },
  {
   "cell_type": "markdown",
   "metadata": {},
   "source": [
    "<h2 style=\"color:Green\"> CODING PART</h2>"
   ]
  },
  {
   "cell_type": "markdown",
   "metadata": {},
   "source": [
    "## Q1).Given three points (x1, y1), (x2, y2) and (x3, y3), write a Python program to check if they are collinear. Use OOP concepts"
   ]
  },
  {
   "cell_type": "code",
   "execution_count": 4,
   "metadata": {},
   "outputs": [
    {
     "name": "stdout",
     "output_type": "stream",
     "text": [
      "Points are Collinear\n"
     ]
    }
   ],
   "source": [
    "class Collinear:\n",
    "    def __init__(self, x, y):\n",
    "        self.x_coord = x\n",
    "        self.y_coord = y\n",
    "    def check_for_collinear(self, point_2_obj, point_3_obj):\n",
    "        if (point_3_obj.y_coord - point_2_obj.y_coord)*(point_2_obj.x_coord -\n",
    "self.x_coord) == (point_2_obj.y_coord - self.y_coord)*(point_3_obj.x_coord -\n",
    "point_2_obj.x_coord):\n",
    "            print(\"Points are Collinear\")\n",
    "        else:\n",
    "            print(\"Points are not Collinear\")\n",
    "def main():\n",
    "    point_1 = Collinear(5, 5)\n",
    "    point_2 = Collinear(5, 5)\n",
    "    point_3 = Collinear(7, 6)\n",
    "    point_1.check_for_collinear(point_2, point_3)\n",
    "if __name__ == \"__main__\":\n",
    "    main()"
   ]
  },
  {
   "cell_type": "markdown",
   "metadata": {},
   "source": [
    "## Q2). Define a class called Cart that contains data attributes apples and oranges. Write methods to add or consume apples and oranges and also return appropriate messages if the number of apples is greater than 5 or when the number of oranges are greater than 10.\n"
   ]
  },
  {
   "cell_type": "code",
   "execution_count": 40,
   "metadata": {},
   "outputs": [
    {
     "name": "stdout",
     "output_type": "stream",
     "text": [
      "Apple is in Insufficient Quantity\n",
      "Orange is in Sufficient Quantity\n"
     ]
    }
   ],
   "source": [
    "class Cart:\n",
    "    def __init__(self, apples, oranges):\n",
    "        self.apples = apples\n",
    "        self.oranges = oranges\n",
    "    def apple_quantity_check(self):\n",
    "        if self.apples > 5:\n",
    "            return 'Sufficient Quantity'\n",
    "        else:\n",
    "            return 'Insufficient Quantity'\n",
    "    def orange_quantity_check(self):\n",
    "        if self.oranges > 10:\n",
    "            return 'Sufficient Quantity'\n",
    "        else:\n",
    "            return 'Insufficient Quantity'\n",
    "def main():\n",
    "    fruits = Cart(3, 11)\n",
    "    returned_apple_message = fruits.apple_quantity_check()\n",
    "    returned_orange_message = fruits.orange_quantity_check()\n",
    "    print(f\"Apple is in {returned_apple_message}\")\n",
    "    print(f\"Orange is in {returned_orange_message}\")\n",
    "if __name__ == \"__main__\":\n",
    "            main()"
   ]
  },
  {
   "cell_type": "markdown",
   "metadata": {},
   "source": [
    "## Q3).Create a class called Complex, having real_part and ima_part as its two data members and getdata() and putdata() as its member functions.\n",
    "a).In the above question, craft init and del.\n",
    "\n",
    "b).Create a function called add, which takes two complex numbers as its parameters and returns the sum of the two complex numbers.\n",
    "\n",
    "c).Create a function called sub, which takes two complex numbers as its parameters and returns the difference of the two complex numbers.\n",
    "\n",
    "d).Create a function called multiply, which takes two complex numbers as its parameters and returns the product of the two complex numbers.\n",
    "\n",
    "e).Create a function called div, which takes two complex numbers as its parameters and returns the result of division of the two complex numbers.\n"
   ]
  },
  {
   "cell_type": "code",
   "execution_count": 40,
   "metadata": {},
   "outputs": [
    {
     "name": "stdout",
     "output_type": "stream",
     "text": [
      "Enter first complex number\n",
      "Enter the Real Part: 4\n",
      "Enter the Imaginary Part: 7\n",
      "First Complex Number: 4+7i\n",
      "Enter second complex number\n",
      "Enter the Real Part: 7\n",
      "Enter the Imaginary Part: 9\n",
      "Second Complex Number: 7+9i\n",
      "add of two complex numbers is 11+16i\n"
     ]
    }
   ],
   "source": [
    "class Complex ():\n",
    "    def getdata(add):\n",
    "        add.realPart = int(input(\"Enter the Real Part: \"))\n",
    "        add.imgPart = int(input(\"Enter the Imaginary Part: \"))            \n",
    "    def putdata(add):\n",
    "        print(add.realPart,\"+\",add.imgPart,\"i\", sep=\"\")\n",
    "    def sum(add, c1, c2):\n",
    "        add.realPart = c1.realPart+c2.realPart\n",
    "        add.imgPart = c1.imgPart+c2.imgPart\n",
    "c1 = Complex()\n",
    "c2 = Complex()\n",
    "c3 = Complex()\n",
    "print(\"Enter first complex number\")\n",
    "c1.getdata()\n",
    "print(\"First Complex Number: \", end=\"\")\n",
    "c1.putdata()\n",
    "print(\"Enter second complex number\")\n",
    "c2.getdata()\n",
    "print(\"Second Complex Number: \", end=\"\")\n",
    "c2.putdata()\n",
    "print(\"add of two complex numbers is \", end=\"\")\n",
    "c3.sum(c1,c2)\n",
    "c3.putdata()"
   ]
  },
  {
   "cell_type": "code",
   "execution_count": 1,
   "metadata": {},
   "outputs": [
    {
     "name": "stdout",
     "output_type": "stream",
     "text": [
      "Enter first complex number\n",
      "Enter the Real Part: 4\n",
      "Enter the Imaginary Part: 7\n",
      "First Complex Number: 4+7i\n",
      "Enter second complex number\n",
      "Enter the Real Part: 6\n",
      "Enter the Imaginary Part: 9\n",
      "Second Complex Number: 6+9i\n",
      "substraction of two complex numbers is -2+-2i\n"
     ]
    }
   ],
   "source": [
    "class Complex ():\n",
    "    def getdata(sub):\n",
    "        sub.realPart = int(input(\"Enter the Real Part: \"))\n",
    "        sub.imgPart = int(input(\"Enter the Imaginary Part: \"))            \n",
    "    def putdata(sub):\n",
    "        print(sub.realPart,\"+\",sub.imgPart,\"i\", sep=\"\")\n",
    "    def sum(sub, c1, c2):\n",
    "        sub.realPart = c1.realPart-c2.realPart\n",
    "        sub.imgPart = c1.imgPart-c2.imgPart\n",
    "c1 = Complex()\n",
    "c2 = Complex()\n",
    "c3 = Complex()\n",
    "print(\"Enter first complex number\")\n",
    "c1.getdata()\n",
    "print(\"First Complex Number: \", end=\"\")\n",
    "c1.putdata()\n",
    "print(\"Enter second complex number\")\n",
    "c2.getdata()\n",
    "print(\"Second Complex Number: \", end=\"\")\n",
    "c2.putdata()\n",
    "print(\"substraction of two complex numbers is \", end=\"\")\n",
    "c3.sum(c1,c2)\n",
    "c3.putdata()"
   ]
  },
  {
   "cell_type": "code",
   "execution_count": 2,
   "metadata": {},
   "outputs": [
    {
     "name": "stdout",
     "output_type": "stream",
     "text": [
      "Enter first complex number\n",
      "Enter the Real Part: 4\n",
      "Enter the Imaginary Part: 2\n",
      "First Complex Number: 4+2i\n",
      "Enter second complex number\n",
      "Enter the Real Part: 6\n",
      "Enter the Imaginary Part: 8\n",
      "Second Complex Number: 6+8i\n",
      "Multiplication of two complex numbers is 24+16i\n"
     ]
    }
   ],
   "source": [
    "class Complex ():\n",
    "    def getdata(multiply):\n",
    "        multiply.realPart = int(input(\"Enter the Real Part: \"))\n",
    "        multiply.imgPart = int(input(\"Enter the Imaginary Part: \"))            \n",
    "    def putdata(multiply):\n",
    "        print(multiply.realPart,\"+\",multiply.imgPart,\"i\", sep=\"\")\n",
    "    def sum(multiply, c1, c2):\n",
    "        multiply.realPart = c1.realPart*c2.realPart\n",
    "        multiply.imgPart = c1.imgPart*c2.imgPart\n",
    "c1 = Complex()\n",
    "c2 = Complex()\n",
    "c3 = Complex()\n",
    "print(\"Enter first complex number\")\n",
    "c1.getdata()\n",
    "print(\"First Complex Number: \", end=\"\")\n",
    "c1.putdata()\n",
    "print(\"Enter second complex number\")\n",
    "c2.getdata()\n",
    "print(\"Second Complex Number: \", end=\"\")\n",
    "c2.putdata()\n",
    "print(\"Multiplication of two complex numbers is \", end=\"\")\n",
    "c3.sum(c1,c2)\n",
    "c3.putdata()"
   ]
  },
  {
   "cell_type": "code",
   "execution_count": 4,
   "metadata": {},
   "outputs": [
    {
     "name": "stdout",
     "output_type": "stream",
     "text": [
      "Enter first complex number\n",
      "Enter the Real Part: 4\n",
      "Enter the Imaginary Part: 8\n",
      "First Complex Number: 4+8i\n",
      "Enter second complex number\n",
      "Enter the Real Part: 2\n",
      "Enter the Imaginary Part: 6\n",
      "Second Complex Number: 2+6i\n",
      "Division of two complex numbers is 2.0+1.3333333333333333i\n"
     ]
    }
   ],
   "source": [
    "class Complex ():\n",
    "    def initComplex(div):\n",
    "        div.realPart = int(input(\"Enter the Real Part: \"))\n",
    "        div.imgPart = int(input(\"Enter the Imaginary Part: \"))            \n",
    "    def display(div):\n",
    "        print(div.realPart,\"+\",div.imgPart,\"i\", sep=\"\")\n",
    "    def sum(div, c1, c2):\n",
    "        div.realPart = c1.realPart/c2.realPart\n",
    "        div.imgPart = c1.imgPart/c2.imgPart\n",
    "c1 = Complex()\n",
    "c2 = Complex()\n",
    "c3 = Complex()\n",
    "print(\"Enter first complex number\")\n",
    "c1.initComplex()\n",
    "print(\"First Complex Number: \", end=\"\")\n",
    "c1.display()\n",
    "print(\"Enter second complex number\")\n",
    "c2.initComplex()\n",
    "print(\"Second Complex Number: \", end=\"\")\n",
    "c2.display()\n",
    "print(\"Division of two complex numbers is \", end=\"\")\n",
    "c3.sum(c1,c2)\n",
    "c3.display()"
   ]
  },
  {
   "cell_type": "markdown",
   "metadata": {},
   "source": [
    "## Q4). A library management system is to be created, in which the following details of a “Book” are to be stored.\n",
    "Name, Publisher, Year, ISBN, Authors\n",
    "\n",
    "The authors, above, is a list consisting of all the authors of that book.\n",
    "\n",
    "Create a class called Book, which stores the above details. Craft two functions - getdata() which asks the user to enter data and putdata() to display the data.\n",
    "\n",
    "\n",
    "a).In the above program, create init which takes only one parameter (self).\n",
    "\n",
    "b).Create init, which takes 6 parameters with the first being “self” and the rest the values of variables stated in question 4.\n",
    "\n",
    "c).In the above question, craft a destructor and call it.\n"
   ]
  },
  {
   "cell_type": "code",
   "execution_count": 2,
   "metadata": {},
   "outputs": [
    {
     "name": "stdout",
     "output_type": "stream",
     "text": [
      "Enter the name\t:DANISH\n",
      "Enter the Publisher\t:S.chand\n",
      "Enter year (yy)\t : 2001\n",
      "Enter ISBN \t : 978-03-16-678556\n",
      "Enter Author  \t : Khurmi\n",
      "Name\t: DANISH\n",
      "S.chand : 2001 : 978-03-16-678556 : Khurmi\n"
     ]
    }
   ],
   "source": [
    "class Book():\n",
    "    def getdata(self):\n",
    "        self.publisher=input(\"Enter the Publisher\\t:\")\n",
    "        self.Year = input(\"Enter year (yy)\\t : \") \n",
    "        self.ISBN = input(\"Enter ISBN \\t : \") \n",
    "        self.Authors = input(\"Enter Author  \\t : \") \n",
    "    def display(self):\n",
    "        print (self.publisher,\":\",self.Year,\":\",self.ISBN,\":\",self.Authors)\n",
    "class details():\n",
    "    def getdata(self):\n",
    "                      self.name = input(\"Enter the name\\t:\")\n",
    "                      self.details=Book()\n",
    "                      self.details.getdata()\n",
    "    def putdata(self):\n",
    "                      print(\"Name\\t:\",self.name)\n",
    "                      self.details.display()\n",
    "s=details()\n",
    "s.getdata()\n",
    "s.putdata()"
   ]
  },
  {
   "cell_type": "code",
   "execution_count": 12,
   "metadata": {},
   "outputs": [
    {
     "name": "stdout",
     "output_type": "stream",
     "text": [
      "Enter the name\t:DANISH\n",
      "Enter the Publisher\t:S.chand\n",
      "Enter year (yy)\t : 2019\n",
      "Enter ISBN \t : 978-03-16-678556\n",
      "Enter Author  \t : Khurmi & GUpta\n",
      "DANISH issued a book that was published in 2019 by publisherS.chand with 978-03-16-678556 and written by Khurmi & GUpta\n"
     ]
    }
   ],
   "source": [
    "class Book():\n",
    "    def __init__(self,name):\n",
    "        self.name = input(\"Enter the name\\t:\")\n",
    "        self.publisher=input(\"Enter the Publisher\\t:\")\n",
    "        self.Year = input(\"Enter year (yy)\\t : \") \n",
    "        self.ISBN = input(\"Enter ISBN \\t : \") \n",
    "        self.Authors = input(\"Enter Author  \\t : \") \n",
    "\n",
    "    def Book_details(self,publisher,year,ISBN,Author):\n",
    "        return f\"{self.name} issued a book that was published in {self.Year} by publisher{self.publisher} with {self.ISBN} and written by {self.Authors}\"\n",
    "\n",
    "Student = Book(\"DANISH\")\n",
    "print(Student.Book_details(2019,\"S.Chand\",978-3-16-678556,\"Khurmi & Gupta\"))\n"
   ]
  },
  {
   "cell_type": "code",
   "execution_count": 10,
   "metadata": {},
   "outputs": [
    {
     "name": "stdout",
     "output_type": "stream",
     "text": [
      "Book created.\n",
      "Destructor called, Book deleted.\n"
     ]
    }
   ],
   "source": [
    "class Book:\n",
    "    def __init__(self):\n",
    "        print('Book created.')\n",
    "    def __del__(self):\n",
    "        print('Destructor called, Book deleted.')\n",
    "obj = Book()\n",
    "\n",
    "del obj"
   ]
  },
  {
   "cell_type": "markdown",
   "metadata": {},
   "source": [
    "## Q5). Create two base classes named Clock and Calendar. Based on these two classes define a class CalendarClock, which inherits from both the classes which displays month details, date and time.\n"
   ]
  },
  {
   "cell_type": "code",
   "execution_count": 6,
   "metadata": {},
   "outputs": [
    {
     "name": "stdout",
     "output_type": "stream",
     "text": [
      " 0: 0: 0\n",
      " 2:46:40\n"
     ]
    }
   ],
   "source": [
    "class Clock(object):\n",
    "\n",
    "    def __init__(self,hours=0, minutes=0, seconds=0):\n",
    "        self.__hours = hours\n",
    "        self.__minutes = minutes\n",
    "        self.__seconds = seconds\n",
    "\n",
    "    def set(self,hours, minutes, seconds=0):\n",
    "        self.__hours = hours\n",
    "        self.__minutes = minutes\n",
    "        self.__seconds = seconds\n",
    "\n",
    "    def tick(self):\n",
    "        \"\"\" Time will be advanced by one second \"\"\"\n",
    "        if self.__seconds == 59:\n",
    "            self.__seconds = 0\n",
    "            if (self.__minutes == 59):\n",
    "                self.__minutes = 0\n",
    "                self.__hours = 0 if self.__hours==23  else self.__hours + 1\n",
    "            else:\n",
    "                self.__minutes += 1;\n",
    "        else:\n",
    "            self.__seconds += 1;\n",
    "\n",
    "    def display(self):\n",
    "        print(\"%d:%d:%d\" % (self.__hours, self.__minutes, self.__seconds))\n",
    "\n",
    "    def __str__(self):\n",
    "        return \"%2d:%2d:%2d\" % (self.__hours, self.__minutes, self.__seconds)\n",
    "\n",
    "x = Clock()\n",
    "print(x)\n",
    "for i in range(10000):\n",
    "    x.tick()\n",
    "print(x)"
   ]
  },
  {
   "cell_type": "code",
   "execution_count": 7,
   "metadata": {},
   "outputs": [
    {
     "name": "stdout",
     "output_type": "stream",
     "text": [
      "1/1/2000\n",
      "2/1/2000\n"
     ]
    }
   ],
   "source": [
    "class Calendar(object):\n",
    "    months = (31,28,31,30,31,30,31,31,30,31,30,31)\n",
    "\n",
    "    def __init__(self, day=1, month=1, year=2000):\n",
    "        self.__day = day\n",
    "        self.__month = month\n",
    "        self.__year = year\n",
    "\n",
    "    def leapyear(self,y):\n",
    "        if y % 4:\n",
    "# not a leap year\n",
    "           return 0;\n",
    "        else:\n",
    "           if y % 100:\n",
    "               return 1;\n",
    "           else:\n",
    "               if y % 400:\n",
    "                  return 0\n",
    "               else:\n",
    "                  return 1;\n",
    "\n",
    "    def set(self, day, month, year):\n",
    "        self.__day = day\n",
    "        self.__month = month\n",
    "        self.__year = year\n",
    "\n",
    "\n",
    "    def get():\n",
    "        return (self, self.__day, self.__month, self.__year)\n",
    "    def advance(self):\n",
    "        months = Calendar.months\n",
    "        max_days = months[self.__month-1]\n",
    "        if self.__month == 2:\n",
    "            max_days += self.leapyear(self.__year)\n",
    "        if self.__day == max_days:\n",
    "            self.__day = 1\n",
    "            if (self.__month == 12):\n",
    "                self.__month = 1\n",
    "                self.__year += 1\n",
    "            else:\n",
    "                self.__month += 1\n",
    "        else:\n",
    "            self.__day += 1\n",
    "\n",
    "\n",
    "    def __str__(self):\n",
    "       return str(self.__day)+\"/\"+ str(self.__month)+ \"/\"+ str(self.__year)\n",
    "\n",
    "if __name__ == \"__main__\":\n",
    "   x = Calendar()\n",
    "   print(x)\n",
    "   x.advance()\n",
    "   print(x)"
   ]
  },
  {
   "cell_type": "code",
   "execution_count": 10,
   "metadata": {},
   "outputs": [
    {
     "name": "stdout",
     "output_type": "stream",
     "text": [
      "29/3/2020,  0: 0: 0\n",
      "24/12/2022,  0:16:40\n"
     ]
    }
   ],
   "source": [
    "class CalendarClock(Clock, Calendar):\n",
    "\n",
    "    def __init__(self, day,month,year,hours=0, minutes=0,seconds=0):\n",
    "        Calendar.__init__(self, day, month, year)\n",
    "        Clock.__init__(self, hours, minutes, seconds)\n",
    "\n",
    "    def __str__(self):\n",
    "        return Calendar.__str__(self) + \", \" + Clock.__str__(self)\n",
    "\n",
    "if __name__  == \"__main__\":\n",
    "    x = CalendarClock(29,3,2020)\n",
    "    print(x)\n",
    "    for i in range(1000):\n",
    "        x.tick()\n",
    "    for i in range(1000):\n",
    "        x.advance()\n",
    "print(x)"
   ]
  },
  {
   "cell_type": "markdown",
   "metadata": {},
   "source": [
    "<h2 style=\"color:Orange\"> THE END</h2>"
   ]
  }
 ],
 "metadata": {
  "kernelspec": {
   "display_name": "Python 3",
   "language": "python",
   "name": "python3"
  },
  "language_info": {
   "codemirror_mode": {
    "name": "ipython",
    "version": 3
   },
   "file_extension": ".py",
   "mimetype": "text/x-python",
   "name": "python",
   "nbconvert_exporter": "python",
   "pygments_lexer": "ipython3",
   "version": "3.8.3"
  }
 },
 "nbformat": 4,
 "nbformat_minor": 4
}
