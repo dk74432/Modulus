{
 "cells": [
  {
   "cell_type": "markdown",
   "metadata": {},
   "source": [
    "<h2 style=\"color:Red\"> Lecture 8 -Intermediate Coding Test</h2>"
   ]
  },
  {
   "cell_type": "markdown",
   "metadata": {},
   "source": [
    "<h2 style=\"color:Green\"> THEORY PART</h2>"
   ]
  },
  {
   "cell_type": "markdown",
   "metadata": {},
   "source": [
    "## Q1). What is the difference between object-oriented and procedural programming?"
   ]
  },
  {
   "cell_type": "markdown",
   "metadata": {},
   "source": [
    "## object-oriented programming"
   ]
  },
  {
   "cell_type": "markdown",
   "metadata": {},
   "source": [
    "Object oriented programming can be defined as a programming model which is based upon the concept of objects. Objects contain data in the form of attributes and code in the form of methods"
   ]
  },
  {
   "cell_type": "markdown",
   "metadata": {},
   "source": [
    " In object oriented programming, computer programs are designed using the concept of objects that interact with real world"
   ]
  },
  {
   "cell_type": "markdown",
   "metadata": {},
   "source": [
    "Object oriented programming languages are various but the most popular ones are class-based, meaning that objects are instances of classes, which also determine their types"
   ]
  },
  {
   "cell_type": "markdown",
   "metadata": {},
   "source": [
    "## procedural programming"
   ]
  },
  {
   "cell_type": "markdown",
   "metadata": {},
   "source": [
    "Procedural Programming can be defined as a programming model which is derived from structured programming, based upon the concept of calling procedure. "
   ]
  },
  {
   "cell_type": "markdown",
   "metadata": {},
   "source": [
    "Procedures, also known as routines, subroutines or functions, simply consist of a series of computational steps to be carried out"
   ]
  },
  {
   "cell_type": "markdown",
   "metadata": {},
   "source": [
    "During a program’s execution, any given procedure might be called at any point, including by other procedures or itself."
   ]
  },
  {
   "cell_type": "markdown",
   "metadata": {},
   "source": [
    "## Q2).What is a class? What are the essential components of a class? Define attributes and functions of a class."
   ]
  },
  {
   "cell_type": "markdown",
   "metadata": {},
   "source": [
    "A Class in Python is a logical grouping of data and functions. It gives the freedom to create data structures that contains arbitrary content and hence easily accessible."
   ]
  },
  {
   "cell_type": "markdown",
   "metadata": {},
   "source": [
    "1.Class name—How the class name is identified\n",
    "\n",
    "2.Comments—How to create comments to document your code\n",
    "\n",
    "3.Attributes—How to define attributes for use in the class\n",
    "\n",
    "4.Constructors—Special methods used to properly initialize a class\n",
    "\n",
    "5.Accessors—Methods that are used to control access to private attributes\n",
    "\n",
    "6.Public interface methods—How to define public interface methods\n",
    "\n",
    "7.Private implementation methods—How to define private implementation methods"
   ]
  },
  {
   "cell_type": "markdown",
   "metadata": {},
   "source": [
    "##### As an object-oriented language, Python provides two scopes for attributes: class attributes and instance attributes\n",
    "    \n",
    "1.An instance attribute is a Python variable belonging to one, and only one, object. This variable is only accessible in the scope of this object and it is defined inside the constructor function, __init__(self,..) of the class.\n",
    "\n",
    "2.A class attribute is a Python variable that belongs to a class rather than a particular object. It is shared between all the objects of this class and it is defined outside the constructor function, __init__(self,...), of the class."
   ]
  },
  {
   "cell_type": "markdown",
   "metadata": {},
   "source": [
    "####  A member function of a class is a function that has its definition or its prototype within the class definition like any other variable. It operates on any object of the class of which it is a member, and has access to all the members of a class for that object"
   ]
  },
  {
   "cell_type": "markdown",
   "metadata": {},
   "source": [
    "## Q3).Explain the importance of encapsulation"
   ]
  },
  {
   "cell_type": "markdown",
   "metadata": {},
   "source": [
    "Encapsulation\n",
    "Using OOP in Python, we can restrict access to methods and variables. This prevents data from direct modification which is called encapsulation. In Python, we denote private attributes using underscore as the prefix i.e single _ or double __."
   ]
  },
  {
   "cell_type": "markdown",
   "metadata": {},
   "source": [
    "#####  Importance of Encapsulation \n",
    "\n",
    "Encapsulation helps in isolating implementation details from the behavior exposed to clients of a class (other classes/functions that are using this class), and gives you more control over coupling in your code"
   ]
  },
  {
   "cell_type": "markdown",
   "metadata": {},
   "source": [
    "## Q4).What is polymorphism?"
   ]
  },
  {
   "cell_type": "markdown",
   "metadata": {},
   "source": [
    "Polymorphism is an ability (in OOP) to use a common interface for multiple forms (data types).\n",
    "\n",
    "Suppose, we need to color a shape, there are multiple shape options (rectangle, square, circle). However we could use the same method to color any shape. This concept is called Polymorphism."
   ]
  },
  {
   "cell_type": "markdown",
   "metadata": {},
   "source": [
    "## Q5).What is the advantage of reusability? "
   ]
  },
  {
   "cell_type": "markdown",
   "metadata": {},
   "source": [
    "A).Reusability is a major contributor to the development goal of achieving high speed, low cost and quality."
   ]
  },
  {
   "cell_type": "markdown",
   "metadata": {},
   "source": [
    "B).it is better and faster to employ proven off-the-shelf designs rather than specially-crafted designs that might have problems."
   ]
  },
  {
   "cell_type": "markdown",
   "metadata": {},
   "source": [
    "## Q6).What is a constructor?"
   ]
  },
  {
   "cell_type": "markdown",
   "metadata": {},
   "source": [
    "The constructor is a method that is called when an object is created. This method is defined in the class and can be used to initialize basic variables. If you create four objects, the class constructor is called four times."
   ]
  },
  {
   "cell_type": "markdown",
   "metadata": {},
   "source": [
    "## Q7).What is inheritance? Explain the importance of inheritance."
   ]
  },
  {
   "cell_type": "markdown",
   "metadata": {},
   "source": [
    "Inheritance is a way of creating a new class for using details of an existing class without modifying it. The newly formed class is a derived class (or child class). Similarly, the existing class is a base class (or parent class)."
   ]
  },
  {
   "cell_type": "markdown",
   "metadata": {},
   "source": [
    "##### importance of inheritance.\n",
    "One of the most important concepts in object-oriented programming is that of inheritance. Inheritance allows us to define a class in terms of another class, which makes it easier to create and maintain an application. This also provides an opportunity to reuse the code functionality and fast implementation time."
   ]
  },
  {
   "cell_type": "markdown",
   "metadata": {},
   "source": [
    "<h2 style=\"color:Green\"> CODING PART</h2>"
   ]
  },
  {
   "cell_type": "markdown",
   "metadata": {},
   "source": [
    "## Q1).Create a class called Date having day, month, and year as its data members and getdata() and putdata() as its member functions. Instantiate the class  and then ask the user to enter data and display the data.\n"
   ]
  },
  {
   "cell_type": "code",
   "execution_count": 37,
   "metadata": {},
   "outputs": [
    {
     "name": "stdout",
     "output_type": "stream",
     "text": [
      "Enter the name\t:DANISH\n",
      "Enter the date(dd)\t:01\n",
      "Enter the month(mm)\t:07\n",
      "Enter year (yy)\t : 1988\n",
      "Name\t: DANISH\n",
      "01 : 07 : 1988\n"
     ]
    }
   ],
   "source": [
    "class date():\n",
    "    def getdata(self):\n",
    "        self.dd = input(\"Enter the date(dd)\\t:\")\n",
    "        self.mm =input(\"Enter the month(mm)\\t:\")\n",
    "        self.yy = input(\"Enter year (yy)\\t : \")    \n",
    "    def display(self):\n",
    "        print (self.dd,\":\",self.mm,\":\",self.yy)\n",
    "class student():\n",
    "    def getdata(self):\n",
    "                      self.name=input(\"Enter the name\\t:\")\n",
    "                      self.dob=date()\n",
    "                      self.dob.getdata()\n",
    "    def putdata(self):\n",
    "                      print(\"Name\\t:\",self.name)\n",
    "                      self.dob.display()\n",
    "s=student()\n",
    "s.getdata()\n",
    "s.putdata()"
   ]
  },
  {
   "cell_type": "markdown",
   "metadata": {},
   "source": [
    "## Q2).Write Python program to calculate the arc length of an angle by assigning values to the radius and angle data attributes of the class ArcLength (here, arc length = 2 * pi * radius * angle / 360)."
   ]
  },
  {
   "cell_type": "code",
   "execution_count": 9,
   "metadata": {},
   "outputs": [
    {
     "name": "stdout",
     "output_type": "stream",
     "text": [
      "Diameter of circle: 30\n",
      "angle measure: 45\n",
      "Arc Length is:  11.785714285714285\n"
     ]
    }
   ],
   "source": [
    "def arclength():\n",
    "    pi=22/7\n",
    "    diameter = float(input('Diameter of circle: '))\n",
    "    angle = float(input('angle measure: '))\n",
    "    if angle >= 360:\n",
    "        print(\"Angle is not possible\")\n",
    "        return\n",
    "    arc_length = (pi*diameter) * (angle/360)\n",
    "    print(\"Arc Length is: \", arc_length)\n",
    "\n",
    "arclength()"
   ]
  },
  {
   "cell_type": "markdown",
   "metadata": {},
   "source": [
    "## Q3).Define a class called Cart that contains data attributes apples and oranges. Write methods that return appropriate messages if the number of apples is greater than 5 or when the number of oranges are greater than 10.\n"
   ]
  },
  {
   "cell_type": "code",
   "execution_count": 3,
   "metadata": {},
   "outputs": [
    {
     "name": "stdout",
     "output_type": "stream",
     "text": [
      "Apple is in Insufficient Quantity\n",
      "Orange is in Sufficient Quantity\n"
     ]
    }
   ],
   "source": [
    "class Cart:\n",
    "    def __init__(self, apples, oranges):\n",
    "        self.apples = apples\n",
    "        self.oranges = oranges\n",
    "    def apple_quantity_check(self):\n",
    "        if self.apples > 5:\n",
    "            return 'Sufficient Quantity'\n",
    "        else:\n",
    "            return 'Insufficient Quantity'\n",
    "    def orange_quantity_check(self):\n",
    "        if self.oranges > 10:\n",
    "            return 'Sufficient Quantity'\n",
    "        else:\n",
    "            return 'Insufficient Quantity'\n",
    "def main():\n",
    "    fruits = Cart(3, 11)\n",
    "    returned_apple_message = fruits.apple_quantity_check()\n",
    "    returned_orange_message = fruits.orange_quantity_check()\n",
    "    print(f\"Apple is in {returned_apple_message}\")\n",
    "    print(f\"Orange is in {returned_orange_message}\")\n",
    "if __name__ == \"__main__\":\n",
    "            main()"
   ]
  },
  {
   "cell_type": "markdown",
   "metadata": {},
   "source": [
    "## Q4).Create a class called Library with data attributes like acc_number, publisher, title and author. The methods of the class should include\n",
    "\n",
    "a).Read() – acc_number, title, author.\n",
    "\n",
    "b).Compute() - to accept the number of days late, calculate and display the fine charged at the rate of $1.50 per day.\n",
    " \n",
    "c).Display the data.\n"
   ]
  },
  {
   "cell_type": "code",
   "execution_count": 28,
   "metadata": {},
   "outputs": [
    {
     "name": "stdout",
     "output_type": "stream",
     "text": [
      "Enter the acc_number\t:A23D1\n",
      "Enter the Publisher\t:O'reilly\n",
      "Enter title \t : NLP\n",
      "Enter Author  \t : Steven bird\n",
      "acc_number\t: A23D1\n",
      "O'reilly : NLP : Steven bird\n"
     ]
    }
   ],
   "source": [
    "class Book():\n",
    "    def getdata(self):\n",
    "        self.publisher=input(\"Enter the Publisher\\t:\")\n",
    "        self.title=input(\"Enter title \\t : \") \n",
    "        self.Authors = input(\"Enter Author  \\t : \") \n",
    "    def display(self):\n",
    "        print (self.publisher,\":\",self.title,\":\",self.Authors)\n",
    "class details():\n",
    "    def getdata(self):\n",
    "                      self.acc_number=input(\"Enter the acc_number\\t:\")\n",
    "                      self.details=Book()\n",
    "                      self.details.getdata()\n",
    "    def putdata(self):\n",
    "                      print(\"acc_number\\t:\",self.acc_number)\n",
    "                      self.details.display()\n",
    "s=details()\n",
    "s.getdata()\n",
    "s.putdata()"
   ]
  },
  {
   "cell_type": "code",
   "execution_count": 2,
   "metadata": {},
   "outputs": [
    {
     "name": "stdout",
     "output_type": "stream",
     "text": [
      "Enter first name\t:Danish\n",
      "Enter last name\t:khan\n",
      "Enter No.of late days\t:3\n",
      "Enter Fine amount \t : 1.5\n",
      "$4.50\n"
     ]
    }
   ],
   "source": [
    "def library_fine():\n",
    "    first_name = input(\"Enter first name\\t:\")\n",
    "    last_name =input(\"Enter last name\\t:\")\n",
    "    days=int(input(\"Enter No.of late days\\t:\"))\n",
    "    fine=float(input(\"Enter Fine amount \\t : \") )\n",
    "    if days <= 0:\n",
    "        print(\"no fine\")\n",
    "        return\n",
    "    fine_amount=\"${:,.2f}\".format((1.5 * days)*(1/1)) \n",
    "    print(fine_amount)\n",
    "\n",
    "library_fine()\n"
   ]
  },
  {
   "cell_type": "markdown",
   "metadata": {},
   "source": [
    "## Q5).A start-up employs interns. The following details of interns are stored first_name, last_name, address, mobile_number, e_mail.  Create a class called Intern, which stores the above details. Craft two functions getdata() which asks the user to enter data and putdata() to display the data.\n"
   ]
  },
  {
   "cell_type": "code",
   "execution_count": 3,
   "metadata": {},
   "outputs": [
    {
     "name": "stdout",
     "output_type": "stream",
     "text": [
      "Enter first name\t:DANISH\n",
      "Enter last name\t:KHAN\n",
      "Enter the address\t:Ahmedabad\n",
      "Enter email\t:dk74432@gmail.com\n",
      "Enter mobile number\t : 7874760294\n",
      "Name\t: DANISH KHAN\n",
      "Ahmedabad : dk74432@gmail.com : 7874760294\n"
     ]
    }
   ],
   "source": [
    "class intern():\n",
    "    def getdata(self):\n",
    "        self.address=input(\"Enter the address\\t:\")\n",
    "        self.email=input(\"Enter email\\t:\")\n",
    "        self.mobile = input(\"Enter mobile number\\t : \")    \n",
    "    def display(self):\n",
    "        print (self.address,\":\",self.email,\":\",self.mobile)\n",
    "class Employee():\n",
    "    def getdata(self):\n",
    "                      self.first_name = input(\"Enter first name\\t:\")\n",
    "                      self.last_name =input(\"Enter last name\\t:\")\n",
    "                      self.employee=intern()\n",
    "                      self.employee.getdata()\n",
    "    def putdata(self):\n",
    "                      print(\"Name\\t:\",self.first_name,self.last_name)\n",
    "                      self.employee.display()\n",
    "s=Employee()\n",
    "s.getdata()\n",
    "s.putdata()"
   ]
  },
  {
   "cell_type": "markdown",
   "metadata": {},
   "source": [
    "## Q6).Modify class created in question 5 as:\n",
    "\n",
    "a).create init which takes only one parameter (self).\n",
    "\n",
    "b).create init which takes 6 parameters - the first being “self” and the rest the values of variables stated in question 5.\n",
    "\n",
    "c).create a destructor.\n"
   ]
  },
  {
   "cell_type": "code",
   "execution_count": 36,
   "metadata": {},
   "outputs": [
    {
     "name": "stdout",
     "output_type": "stream",
     "text": [
      "Enter first name\t:Peter \n",
      "Enter last name\t:Fernandis\n",
      "Enter the address\t:Bhopal\n",
      "Enter email\t:peter123@gmail.com\n",
      "Enter mobile number\t : 7890123456\n",
      "Name\t: Peter  Fernandis\n",
      "Bhopal : peter123@gmail.com : 7890123456\n"
     ]
    }
   ],
   "source": [
    "class intern():\n",
    "    def getdata(self):\n",
    "        self.address=input(\"Enter the address\\t:\")\n",
    "        self.email=input(\"Enter email\\t:\")\n",
    "        self.mobile = input(\"Enter mobile number\\t : \")    \n",
    "    def display(self):\n",
    "        print (self.address,\":\",self.email,\":\",self.mobile)\n",
    "class Employee():\n",
    "    def getdata(self):\n",
    "                      self.first_name = input(\"Enter first name\\t:\")\n",
    "                      self.last_name =input(\"Enter last name\\t:\")\n",
    "                      self.employee=intern()\n",
    "                      self.employee.getdata()\n",
    "    def putdata(self):\n",
    "                      print(\"Name\\t:\",self.first_name,self.last_name)\n",
    "                      self.employee.display()\n",
    "s=Employee()\n",
    "s.getdata()\n",
    "s.putdata()"
   ]
  },
  {
   "cell_type": "code",
   "execution_count": 37,
   "metadata": {},
   "outputs": [
    {
     "name": "stdout",
     "output_type": "stream",
     "text": [
      "Enter first name\t:peter\n",
      "Enter last name\t:fernandis\n",
      "Enter the address\t:Bhopal\n",
      "Enter email\t:peter123@gmail.com\n",
      "Enter mobile number\t : 7890123456\n",
      "peter fernandis from Bhopal registered with peter123@gmail.com and mobile number 7890123456\n"
     ]
    }
   ],
   "source": [
    "class intern():\n",
    "    def __init__(self):\n",
    "        self.first_name = input(\"Enter first name\\t:\")\n",
    "        self.last_name =input(\"Enter last name\\t:\")\n",
    "        self.address=input(\"Enter the address\\t:\")\n",
    "        self.email=input(\"Enter email\\t:\")\n",
    "        self.mobile = input(\"Enter mobile number\\t : \") \n",
    "\n",
    "        \n",
    "    def Employee(self,first_name,last_name,address,email,mobile):\n",
    "        return f\"{self.first_name} {self.last_name} from {self.address} registered with {self.email} and mobile number {self.mobile}\"\n",
    "\n",
    "Student = intern()\n",
    "print(Student.Employee(\"DANISH\",\"KHAN\",\"ahmedabad\",\"dk74432@gmail.com\",7874760294))"
   ]
  },
  {
   "cell_type": "code",
   "execution_count": 43,
   "metadata": {},
   "outputs": [
    {
     "name": "stdout",
     "output_type": "stream",
     "text": [
      "intern created.\n",
      "Destructor called, intern deleted.\n"
     ]
    }
   ],
   "source": [
    "class intern:\n",
    "    def __init__(self):\n",
    "        print('intern created.')\n",
    "    def __del__(self):\n",
    "        print('Destructor called, intern deleted.')\n",
    "obj = intern()\n",
    "\n",
    "del obj"
   ]
  },
  {
   "cell_type": "markdown",
   "metadata": {},
   "source": [
    "<h2 style=\"color:Orange\"> THE END</h2>"
   ]
  }
 ],
 "metadata": {
  "kernelspec": {
   "display_name": "Python 3",
   "language": "python",
   "name": "python3"
  },
  "language_info": {
   "codemirror_mode": {
    "name": "ipython",
    "version": 3
   },
   "file_extension": ".py",
   "mimetype": "text/x-python",
   "name": "python",
   "nbconvert_exporter": "python",
   "pygments_lexer": "ipython3",
   "version": "3.8.3"
  }
 },
 "nbformat": 4,
 "nbformat_minor": 4
}
