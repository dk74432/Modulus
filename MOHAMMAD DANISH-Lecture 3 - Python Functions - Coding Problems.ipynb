{
 "cells": [
  {
   "cell_type": "markdown",
   "metadata": {},
   "source": [
    "# Lecture 3 - Python Functions - Coding Problems"
   ]
  },
  {
   "cell_type": "markdown",
   "metadata": {},
   "source": [
    "## Q1"
   ]
  },
  {
   "cell_type": "code",
   "execution_count": 1,
   "metadata": {},
   "outputs": [
    {
     "name": "stdout",
     "output_type": "stream",
     "text": [
      "****\n",
      "****\n"
     ]
    }
   ],
   "source": [
    "def rectangle(m,n):\n",
    "    for i in range(m):\n",
    "        print(\"*\"*n)\n",
    "rectangle(2,4)"
   ]
  },
  {
   "cell_type": "markdown",
   "metadata": {},
   "source": [
    "## Q2"
   ]
  },
  {
   "cell_type": "code",
   "execution_count": 2,
   "metadata": {},
   "outputs": [
    {
     "name": "stdout",
     "output_type": "stream",
     "text": [
      "45\n"
     ]
    }
   ],
   "source": [
    "def sum_digits(n):\n",
    "    print(sum(int(n) for n in str(n)))\n",
    "sum_digits(123456789)"
   ]
  },
  {
   "cell_type": "markdown",
   "metadata": {},
   "source": [
    "## Q3"
   ]
  },
  {
   "cell_type": "code",
   "execution_count": 48,
   "metadata": {},
   "outputs": [
    {
     "name": "stdout",
     "output_type": "stream",
     "text": [
      "8\n"
     ]
    }
   ],
   "source": [
    "\n",
    "import math  \n",
    "def digitalRoot(num): \n",
    "    if (num == \"0\"): \n",
    "        return 0\n",
    "    ans = 0\n",
    "    for i in range (0, len(num)): \n",
    "        ans = (ans + int(num[i])) % 9\n",
    "    if(ans == 0): \n",
    "        return 9\n",
    "    else:  \n",
    "        return ans % 9\n",
    "num = \"29240\"\n",
    "print (digitalRoot(num))"
   ]
  },
  {
   "cell_type": "markdown",
   "metadata": {},
   "source": [
    "## Q4"
   ]
  },
  {
   "cell_type": "code",
   "execution_count": 49,
   "metadata": {},
   "outputs": [
    {
     "name": "stdout",
     "output_type": "stream",
     "text": [
      "3\n"
     ]
    }
   ],
   "source": [
    "def diff_position(string1,string2):\n",
    "    a=string1.replace(\" \",\"\")\n",
    "    b=string2.replace(\" \",\"\")\n",
    "    if len(a)<len(b):\n",
    "        length=len(a)\n",
    "    else:\n",
    "        length=len(b)\n",
    "    count=0\n",
    "    for i in range(length):\n",
    "        if a[i]!=b[i]:\n",
    "            count=count+1\n",
    "    print(length-count)\n",
    "string1=\"python\"\n",
    "string2=\"path\"\n",
    "diff_position(string1,string2)"
   ]
  },
  {
   "cell_type": "markdown",
   "metadata": {},
   "source": [
    "## Q5"
   ]
  },
  {
   "cell_type": "code",
   "execution_count": 50,
   "metadata": {},
   "outputs": [
    {
     "name": "stdout",
     "output_type": "stream",
     "text": [
      "true\n",
      "false\n"
     ]
    }
   ],
   "source": [
    "def one_away(string1, string2):\n",
    "    count=0\n",
    "    for i in range(len(string1)):\n",
    "        if string1[i]!=string2[i]:\n",
    "            count=count+1\n",
    "    if count==1:\n",
    "        print(\"true\")\n",
    "    else:\n",
    "        print(\"false\")\n",
    "        \n",
    "one_away(\"Hike\",\"Bike\")\n",
    "one_away(\"like\",\"Hello\")"
   ]
  },
  {
   "cell_type": "markdown",
   "metadata": {},
   "source": [
    "## Q6"
   ]
  },
  {
   "cell_type": "code",
   "execution_count": 51,
   "metadata": {},
   "outputs": [
    {
     "name": "stdout",
     "output_type": "stream",
     "text": [
      "2\n",
      "3\n",
      "4\n",
      "5\n",
      "6\n",
      "7\n",
      "8\n",
      "9\n",
      "11\n",
      "13\n",
      "15\n",
      "17\n",
      "19\n",
      "21\n",
      "23\n",
      "25\n",
      "27\n",
      "29\n",
      "31\n",
      "33\n",
      "35\n",
      "37\n",
      "39\n",
      "41\n",
      "43\n",
      "45\n",
      "47\n",
      "49\n",
      "51\n",
      "53\n",
      "55\n",
      "57\n",
      "59\n",
      "61\n",
      "63\n",
      "65\n",
      "67\n",
      "69\n",
      "71\n",
      "73\n",
      "75\n",
      "77\n",
      "79\n",
      "81\n",
      "83\n",
      "85\n",
      "87\n",
      "89\n",
      "91\n",
      "93\n",
      "95\n",
      "97\n",
      "99\n"
     ]
    }
   ],
   "source": [
    "import math\n",
    "start = 2\n",
    "end = 100\n",
    "\n",
    "for i in range(start,end): \n",
    "    for j in range(3,int(math.sqrt(i))+1,2): \n",
    "        if(i % 2==0): \n",
    "            break\n",
    "    else: \n",
    "        print(i) "
   ]
  },
  {
   "cell_type": "markdown",
   "metadata": {},
   "source": [
    "## Q7"
   ]
  },
  {
   "cell_type": "code",
   "execution_count": 52,
   "metadata": {},
   "outputs": [
    {
     "name": "stdout",
     "output_type": "stream",
     "text": [
      " Please Enter any numeric Value : 2\n",
      "The Square Root of a Given Number 2.0  = 1.4142135623730951\n",
      " Please Enter any numeric Value : 4\n",
      "The Square Root of a Given Number 4.0  = 2.0\n"
     ]
    }
   ],
   "source": [
    "import math\n",
    "\n",
    "## Square root of 2 \n",
    "number = float(input(\" Please Enter any numeric Value : \"))\n",
    "\n",
    "squareRoot = math.sqrt(number)\n",
    "\n",
    "print(\"The Square Root of a Given Number {0}  = {1}\".format(number, squareRoot))\n",
    "\n",
    "## Square root of 4\n",
    "number = float(input(\" Please Enter any numeric Value : \"))\n",
    "\n",
    "squareRoot = math.sqrt(number)\n",
    "\n",
    "print(\"The Square Root of a Given Number {0}  = {1}\".format(number, squareRoot))"
   ]
  },
  {
   "cell_type": "markdown",
   "metadata": {},
   "source": [
    "## Q8"
   ]
  },
  {
   "cell_type": "code",
   "execution_count": 53,
   "metadata": {},
   "outputs": [
    {
     "name": "stdout",
     "output_type": "stream",
     "text": [
      "Height of trapezoid: 10\n",
      "Base one value: 5\n",
      "Base two value: 3\n",
      "Area is: 40.0\n"
     ]
    }
   ],
   "source": [
    "base_1 = 5\n",
    "base_2 = 6\n",
    "height = float(input(\"Height of trapezoid: \"))\n",
    "base_1 = float(input('Base one value: '))\n",
    "base_2 = float(input('Base two value: '))\n",
    "area = ((base_1 + base_2) / 2) * height\n",
    "print(\"Area is:\", area)"
   ]
  },
  {
   "cell_type": "markdown",
   "metadata": {},
   "source": [
    "## Q9"
   ]
  },
  {
   "cell_type": "code",
   "execution_count": 46,
   "metadata": {},
   "outputs": [
    {
     "name": "stdout",
     "output_type": "stream",
     "text": [
      "10.0\n",
      "60.0\n"
     ]
    }
   ],
   "source": [
    "## for nCr\n",
    "def nCr(n, r): \n",
    "    return (fact(n) / (fact(r)  \n",
    "                * fact(n - r))) \n",
    "def fact(n): \n",
    "    res = 1\n",
    "    for i in range(2, n+1): \n",
    "        res = res * i \n",
    "    return res \n",
    "\n",
    "n = 5\n",
    "r = 3\n",
    "print(float(nCr(n, r))) \n",
    "\n",
    "\n",
    "\n",
    "## for nPr\n",
    "import math \n",
    "def fact(n):  \n",
    "    if (n <= 1): \n",
    "        return 1\n",
    "    return n * fact(n - 1)  \n",
    "  \n",
    "def nPr(n, r):  \n",
    "    return math.floor(fact(n) /\n",
    "                fact(n - r))  \n",
    "      \n",
    "n = 5\n",
    "r = 3\n",
    "print(float(nPr(n, r))) "
   ]
  },
  {
   "cell_type": "markdown",
   "metadata": {},
   "source": [
    "## Q10"
   ]
  },
  {
   "cell_type": "code",
   "execution_count": 56,
   "metadata": {},
   "outputs": [
    {
     "name": "stdout",
     "output_type": "stream",
     "text": [
      "92\n",
      "859\n"
     ]
    }
   ],
   "source": [
    "def number(n):\n",
    "    a=10**int(n-1)+1\n",
    "    b=10**int(n)\n",
    "    from random import randint\n",
    "    ans=randint(int(a),int(b))\n",
    "    print(ans)\n",
    "number(2)\n",
    "number(3)"
   ]
  },
  {
   "cell_type": "markdown",
   "metadata": {},
   "source": [
    "# Q11 A"
   ]
  },
  {
   "cell_type": "code",
   "execution_count": 20,
   "metadata": {},
   "outputs": [
    {
     "name": "stdout",
     "output_type": "stream",
     "text": [
      "Enter your name:Hello World\n"
     ]
    },
    {
     "data": {
      "text/plain": [
       "'Hello World'"
      ]
     },
     "execution_count": 20,
     "metadata": {},
     "output_type": "execute_result"
    }
   ],
   "source": [
    "def add_excitement(string):\n",
    "    return(string)\n",
    "string=input(\"Enter your name:\")\n",
    "add_excitement(string)"
   ]
  },
  {
   "cell_type": "markdown",
   "metadata": {},
   "source": [
    "# Q11 B"
   ]
  },
  {
   "cell_type": "code",
   "execution_count": 19,
   "metadata": {},
   "outputs": [
    {
     "name": "stdout",
     "output_type": "stream",
     "text": [
      "Enter your name:Hello World\n"
     ]
    },
    {
     "data": {
      "text/plain": [
       "'Hello World !'"
      ]
     },
     "execution_count": 19,
     "metadata": {},
     "output_type": "execute_result"
    }
   ],
   "source": [
    "def add_excitement(string,n):\n",
    "    return(string+\" \"+n)\n",
    "string=input(\"Enter your name:\")\n",
    "add_excitement(string,\"!\")"
   ]
  },
  {
   "cell_type": "markdown",
   "metadata": {},
   "source": [
    "### THE END"
   ]
  }
 ],
 "metadata": {
  "kernelspec": {
   "display_name": "Python 3",
   "language": "python",
   "name": "python3"
  },
  "language_info": {
   "codemirror_mode": {
    "name": "ipython",
    "version": 3
   },
   "file_extension": ".py",
   "mimetype": "text/x-python",
   "name": "python",
   "nbconvert_exporter": "python",
   "pygments_lexer": "ipython3",
   "version": "3.7.6"
  }
 },
 "nbformat": 4,
 "nbformat_minor": 4
}
