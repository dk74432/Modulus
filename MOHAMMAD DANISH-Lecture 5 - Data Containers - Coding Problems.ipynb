{
 "cells": [
  {
   "cell_type": "markdown",
   "metadata": {},
   "source": [
    "## Lecture 5"
   ]
  },
  {
   "cell_type": "markdown",
   "metadata": {},
   "source": [
    "## Q1"
   ]
  },
  {
   "cell_type": "code",
   "execution_count": 95,
   "metadata": {},
   "outputs": [
    {
     "name": "stdout",
     "output_type": "stream",
     "text": [
      "6\n"
     ]
    }
   ],
   "source": [
    "def Closest(arr, n, target): \n",
    "  \n",
    "    \n",
    "    if (target <= arr[0]): \n",
    "        return arr[0] \n",
    "    if (target >= arr[n - 1]): \n",
    "        return arr[n - 1] \n",
    "  \n",
    "    \n",
    "    i = 0; j = n; mid = 0\n",
    "    while (i < j):  \n",
    "        mid = (i + j) / 2\n",
    "  \n",
    "        if (arr[mid] == target): \n",
    "            return arr[mid] \n",
    "  \n",
    "         \n",
    "         \n",
    "        if (target < arr[mid]) : \n",
    "  \n",
    "             \n",
    "             \n",
    "            if (mid > 0 and target > arr[mid - 1]): \n",
    "                return getClosest(arr[mid - 1], arr[mid], target) \n",
    "  \n",
    "             \n",
    "            j = mid \n",
    "          \n",
    "        \n",
    "        else : \n",
    "            if (mid < n - 1 and target < arr[mid + 1]): \n",
    "                return getClosest(arr[mid], arr[mid + 1], target) \n",
    "                  \n",
    "            # update i \n",
    "            i = mid + 1\n",
    "          \n",
    "    # Only single element left after search \n",
    "    return arr[mid] \n",
    "  \n",
    "  \n",
    " \n",
    "def getClosest(val1, val2, target): \n",
    "  \n",
    "    if (target - val1 >= val2 - target): \n",
    "        return val2 \n",
    "    else: \n",
    "        return val1 \n",
    "  \n",
    " \n",
    "arr = [1, 4, 5, 11, 2,6]   \n",
    "n = len(arr) \n",
    "target = 8\n",
    "print(Closest(arr, n, target))"
   ]
  },
  {
   "cell_type": "markdown",
   "metadata": {},
   "source": [
    "## Q2"
   ]
  },
  {
   "cell_type": "code",
   "execution_count": 1,
   "metadata": {},
   "outputs": [
    {
     "name": "stdout",
     "output_type": "stream",
     "text": [
      "Original list : [1, 4, 5, 8, 10]\n",
      "Yes, List is sorted.\n"
     ]
    }
   ],
   "source": [
    "test_list = [1, 4, 5, 8, 10] \n",
    "  \n",
    "# printing original list  \n",
    "print (\"Original list : \" + str(test_list)) \n",
    "  \n",
    "# using sorted() to  \n",
    "# check sorted list  \n",
    "flag = 0\n",
    "if(test_list == sorted(test_list)): \n",
    "    flag = 1\n",
    "      \n",
    "# printing result \n",
    "if (flag) : \n",
    "    print (\"Yes, List is sorted.\") \n",
    "else : \n",
    "    print (\"No, List is not sorted.\")"
   ]
  },
  {
   "cell_type": "markdown",
   "metadata": {},
   "source": [
    "## Q3"
   ]
  },
  {
   "cell_type": "code",
   "execution_count": 96,
   "metadata": {},
   "outputs": [
    {
     "name": "stdout",
     "output_type": "stream",
     "text": [
      "3 1 6 5 7 8 4 9 2   \n",
      "5 2 9 1 3 4 7 6 8   \n",
      "4 8 7 6 2 9 5 3 1   \n",
      "2 6 3 4 1 5 9 8 7   \n",
      "9 7 4 8 6 0 1 2 5   \n",
      "8 5 1 7 9 2 6 4 3   \n",
      "1 3 8 0 4 7 2 0 6   \n",
      "6 9 2 3 5 1 8 7 4   \n",
      "7 4 5 0 8 6 3 1 0   \n"
     ]
    }
   ],
   "source": [
    "def print_grid(arr): \n",
    "    for i in range(9): \n",
    "        for j in range(9):\n",
    "            print (arr[i][j], end=\" \") \n",
    "        print (\"  \") \n",
    "  \n",
    "          \n",
    "\n",
    "def find_empty_location(arr, l): \n",
    "    for row in range(9): \n",
    "        for col in range(9): \n",
    "            if(arr[row][col]== 0): \n",
    "                l[0]= row \n",
    "                l[1]= col \n",
    "                return True\n",
    "    return False\n",
    "  \n",
    "def used_in_row(arr, row, num): \n",
    "    for i in range(9): \n",
    "        if(arr[row][i] == num): \n",
    "            return True\n",
    "    return False\n",
    "  \n",
    "\n",
    "\n",
    "def used_in_col(arr, col, num): \n",
    "    for i in range(9): \n",
    "        if(arr[i][col] == num): \n",
    "            return True\n",
    "    return False\n",
    "  \n",
    "\n",
    "\n",
    "def used_in_box(arr, row, col, num): \n",
    "    for i in range(3): \n",
    "        for j in range(3): \n",
    "            if(arr[i + row][j + col] == num): \n",
    "                return True\n",
    "    return False\n",
    "  \n",
    " \n",
    " \n",
    "def check_location_is_safe(arr, row, col, num): \n",
    "      \n",
    "    # Check if 'num' is not already placed in current row, \n",
    "    # current column and current 3x3 box \n",
    "    return not used_in_row(arr, row, num) and not used_in_col(arr, col, num) and not used_in_box(arr, row - row % 3, col - col % 3, num) \n",
    "  \n",
    "\n",
    "def solve_sudoku(arr): \n",
    "      \n",
    "    # 'l' is a list variable that keeps the record of row and col in find_empty_location Function     \n",
    "    l =[0, 0] \n",
    "      \n",
    "    # If there is no unassigned location, we are done     \n",
    "    if(not find_empty_location(arr, l)): \n",
    "        return True\n",
    "      \n",
    "    # Assigning list values to row and col that we got from the above Function  \n",
    "    row = l[0] \n",
    "    col = l[1] \n",
    "      \n",
    "    # consider digits 1 to 9 \n",
    "    for num in range(1, 10): \n",
    "          \n",
    "        # if looks promising \n",
    "        if(check_location_is_safe(arr, row, col, num)): \n",
    "              \n",
    "            # make tentative assignment \n",
    "            arr[row][col]= num \n",
    "  \n",
    "            # return, if success, ya ! if(solve_sudoku(arr)): \n",
    "    return True\n",
    "  \n",
    "            # failure, unmake & try again \n",
    "    arr[row][col] = 0\n",
    "              \n",
    "    # this triggers backtracking         \n",
    "    return False \n",
    "  \n",
    "# Driver main function to test above functions \n",
    "if __name__==\"__main__\": \n",
    "      \n",
    "    # creating a 2D array for the grid \n",
    "    grid =[[0 for x in range(9)]for y in range(9)] \n",
    "      \n",
    "    # assigning values to the grid \n",
    "    grid =[[3, 1, 6, 5, 7, 8, 4, 9, 2], \n",
    "          [5, 2, 9, 1, 3, 4, 7, 6, 8], \n",
    "          [4, 8, 7, 6, 2, 9, 5, 3, 1], \n",
    "          [2, 6, 3, 0, 1, 5, 9, 8, 7], \n",
    "          [9, 7, 4, 8, 6, 0, 1, 2, 5], \n",
    "          [8, 5, 1, 7, 9, 2, 6, 4, 3], \n",
    "          [1, 3, 8, 0, 4, 7, 2, 0, 6], \n",
    "          [6, 9, 2, 3, 5, 1, 8, 7, 4], \n",
    "          [7, 4, 5, 0, 8, 6, 3, 1, 0]] \n",
    "      \n",
    "    # if success print the grid \n",
    "    if(solve_sudoku(grid)): \n",
    "        print_grid(grid)\n",
    "    else: \n",
    "            print (\"No solution exists\")"
   ]
  },
  {
   "cell_type": "markdown",
   "metadata": {},
   "source": [
    "## Q4 (a)"
   ]
  },
  {
   "cell_type": "code",
   "execution_count": 93,
   "metadata": {},
   "outputs": [
    {
     "name": "stdout",
     "output_type": "stream",
     "text": [
      "[3, 9, 15, 18, 20, 25, 25, 26, 31, 32, 41, 45]\n"
     ]
    }
   ],
   "source": [
    "def Merge(list1, list2): \n",
    "    final_list = list1 + list2 \n",
    "    final_list.sort() \n",
    "    return(final_list) \n",
    "  \n",
    "# Driver Code \n",
    "list1 = [25, 18, 9, 41, 26, 31] \n",
    "list2 = [25, 45, 3, 32, 15, 20] \n",
    "print(Merge(list1, list2)) "
   ]
  },
  {
   "cell_type": "markdown",
   "metadata": {},
   "source": [
    "## Q4 (b)"
   ]
  },
  {
   "cell_type": "code",
   "execution_count": 94,
   "metadata": {},
   "outputs": [
    {
     "data": {
      "text/plain": [
       "[25, 18, 9, 41, 26, 31, 25, 45, 3, 32, 15, 20]"
      ]
     },
     "execution_count": 94,
     "metadata": {},
     "output_type": "execute_result"
    }
   ],
   "source": [
    "list1 = [25, 18, 9, 41, 26, 31] \n",
    "list2 = [25, 45, 3, 32, 15, 20] \n",
    "final_list=list1+list2\n",
    "final_list"
   ]
  },
  {
   "cell_type": "markdown",
   "metadata": {},
   "source": [
    "## Q5"
   ]
  },
  {
   "cell_type": "code",
   "execution_count": 4,
   "metadata": {},
   "outputs": [
    {
     "name": "stdout",
     "output_type": "stream",
     "text": [
      "Enter the list =[1,2,3,4,5,6,7,8,9,10,11,12]\n",
      "new list  [1, 2, 3, 4, 5, 6, 7, 8, 9, 10, 10, 10]\n"
     ]
    }
   ],
   "source": [
    "num = eval(input (\"Enter the list =\"))\n",
    "for i in range(len(num)) :\n",
    "    if num[i] > 10 :\n",
    "        num[i] = 10\n",
    "print (\"new list \",num)"
   ]
  },
  {
   "cell_type": "markdown",
   "metadata": {},
   "source": [
    "## Q6"
   ]
  },
  {
   "cell_type": "code",
   "execution_count": 7,
   "metadata": {},
   "outputs": [
    {
     "name": "stdout",
     "output_type": "stream",
     "text": [
      "Enter the  list of string [\"my\",\"name\",\"is\",\"danish\"]\n",
      "new list =  ['y', 'ame', 's', 'anish']\n"
     ]
    }
   ],
   "source": [
    "lst  = eval(input (\"Enter the  list of string \"))\n",
    "for i in range(len(lst)) :\n",
    "    lst [ i ] = lst [ i ] [ 1:]\n",
    "print(\"new list = \",lst)"
   ]
  },
  {
   "cell_type": "markdown",
   "metadata": {},
   "source": [
    "## Q7"
   ]
  },
  {
   "cell_type": "code",
   "execution_count": 8,
   "metadata": {},
   "outputs": [
    {
     "name": "stdout",
     "output_type": "stream",
     "text": [
      "Original list 1 : [3, 1, 4]\n",
      "Original list 2 : [1, 5, 9]\n",
      "Resultant list is : [4, 6, 13]\n"
     ]
    }
   ],
   "source": [
    "L = [3,1,4] \n",
    "M = [1,5,9] \n",
    "  \n",
    "# printing original lists \n",
    "print (\"Original list 1 : \" + str(L)) \n",
    "print (\"Original list 2 : \" + str(M)) \n",
    "  \n",
    "# using naive method to  \n",
    "# add two list  \n",
    "res_list = [] \n",
    "for i in range(0, len(L)): \n",
    "    res_list.append(L[i] + M[i]) \n",
    "  \n",
    "# printing resultant list  \n",
    "print (\"Resultant list is : \" + str(res_list)) "
   ]
  },
  {
   "cell_type": "markdown",
   "metadata": {},
   "source": [
    "## Q8"
   ]
  },
  {
   "cell_type": "code",
   "execution_count": 26,
   "metadata": {},
   "outputs": [
    {
     "name": "stdout",
     "output_type": "stream",
     "text": [
      "[1, 1, 0, 1, 0, 0, 0, 1, 0, 1, 0, 1, 1, 0, 1, 0, 1, 0, 0, 1, 0, 1, 1, 0, 0, 0, 1, 0, 0, 1, 1, 1, 1, 0, 1, 0, 1, 1, 1, 0, 1, 0, 0, 0, 1, 1, 0, 1, 0, 0, 1, 0, 1, 0, 0, 0, 1, 1, 0, 1, 1, 0, 0, 0, 0, 0, 0, 1, 1, 1, 0, 1, 1, 1, 1, 0, 0, 0, 0, 1, 0, 0, 0, 0, 1, 0, 0, 1, 0, 1, 0, 1, 0, 1, 1, 0, 0, 1, 1, 0]\n",
      "6\n"
     ]
    }
   ],
   "source": [
    "import random\n",
    "\n",
    "l=[]\n",
    "\n",
    "def my_list():\n",
    "    for j in range(0,100):\n",
    "        x=random.randint(0,1)\n",
    "        l.append(x)\n",
    "    print (l)\n",
    "    return l\n",
    "\n",
    "def largest_row_of_zeros(l):\n",
    "\n",
    "    c = 0\n",
    "    zero_count = 0\n",
    "    for j in l:\n",
    "        if j==0:\n",
    "            c+=1\n",
    "        else:\n",
    "            if c > zero_count:\n",
    "                zero_count = c\n",
    "            c = 0\n",
    "    return zero_count\n",
    "\n",
    "l = my_list()\n",
    "\n",
    "print(largest_row_of_zeros(l))"
   ]
  },
  {
   "cell_type": "markdown",
   "metadata": {},
   "source": [
    "## Q9"
   ]
  },
  {
   "cell_type": "code",
   "execution_count": 40,
   "metadata": {},
   "outputs": [
    {
     "data": {
      "text/plain": [
       "[1,\n",
       " 1,\n",
       " 0,\n",
       " 1,\n",
       " 0,\n",
       " 0,\n",
       " 1,\n",
       " 0,\n",
       " 0,\n",
       " 0,\n",
       " 1,\n",
       " 0,\n",
       " 0,\n",
       " 0,\n",
       " 0,\n",
       " 1,\n",
       " 0,\n",
       " 0,\n",
       " 0,\n",
       " 0,\n",
       " 0,\n",
       " 1,\n",
       " 0,\n",
       " 0,\n",
       " 0,\n",
       " 0,\n",
       " 0,\n",
       " 0,\n",
       " 1,\n",
       " 0,\n",
       " 0,\n",
       " 0,\n",
       " 0,\n",
       " 0,\n",
       " 0,\n",
       " 0,\n",
       " 1,\n",
       " 0,\n",
       " 0,\n",
       " 0,\n",
       " 0,\n",
       " 0,\n",
       " 0,\n",
       " 0,\n",
       " 0,\n",
       " 1,\n",
       " 0,\n",
       " 0,\n",
       " 0,\n",
       " 0,\n",
       " 0,\n",
       " 0,\n",
       " 0,\n",
       " 0,\n",
       " 0,\n",
       " 1,\n",
       " 0,\n",
       " 0,\n",
       " 0,\n",
       " 0,\n",
       " 0,\n",
       " 0,\n",
       " 0,\n",
       " 0,\n",
       " 0,\n",
       " 0,\n",
       " 1]"
      ]
     },
     "execution_count": 40,
     "metadata": {},
     "output_type": "execute_result"
    }
   ],
   "source": [
    "[int(y==0) for x in range(12) for y in range(x)]+[1]"
   ]
  },
  {
   "cell_type": "markdown",
   "metadata": {},
   "source": [
    "## Q10"
   ]
  },
  {
   "cell_type": "code",
   "execution_count": 10,
   "metadata": {},
   "outputs": [
    {
     "name": "stdout",
     "output_type": "stream",
     "text": [
      "The original list is : [1, 3, 5, 6, 3, 5, 6, 1]\n",
      "The list after removing duplicates : [1, 3, 5, 6]\n"
     ]
    }
   ],
   "source": [
    "LIST = [1, 3, 5, 6, 3, 5, 6, 1] \n",
    "print (\"The original list is : \" +  str(LIST)) \n",
    "  \n",
    "# using list comprehension \n",
    "# to remove duplicated  \n",
    "# from list  \n",
    "res = [] \n",
    "[res.append(x) for x in LIST if x not in res] \n",
    "  \n",
    "# printing list after removal  \n",
    "print (\"The list after removing duplicates : \" + str(res)) "
   ]
  },
  {
   "cell_type": "markdown",
   "metadata": {},
   "source": [
    "## Q11 (a)"
   ]
  },
  {
   "cell_type": "code",
   "execution_count": 6,
   "metadata": {},
   "outputs": [
    {
     "name": "stdout",
     "output_type": "stream",
     "text": [
      "Enter the  list of string [\"How \",\"are\",\"you\",\"dear\"]\n",
      "new list =  ['ow ', 're', 'ou', 'ear']\n"
     ]
    }
   ],
   "source": [
    "lst  = eval(input (\"Enter the  list of string \"))\n",
    "for i in range(len(lst)) :\n",
    "    lst [ i ] = lst [ i ] [ 1:]\n",
    "print(\"new list = \",lst)"
   ]
  },
  {
   "cell_type": "markdown",
   "metadata": {},
   "source": [
    "## Q11 (b)"
   ]
  },
  {
   "cell_type": "code",
   "execution_count": 33,
   "metadata": {},
   "outputs": [
    {
     "name": "stdout",
     "output_type": "stream",
     "text": [
      "The length of the list is 4\n"
     ]
    }
   ],
   "source": [
    "print(\"The length of the list is\", len(lst))"
   ]
  },
  {
   "cell_type": "markdown",
   "metadata": {},
   "source": [
    "## Q11(c)"
   ]
  },
  {
   "cell_type": "code",
   "execution_count": 88,
   "metadata": {},
   "outputs": [
    {
     "name": "stdout",
     "output_type": "stream",
     "text": [
      "Enter the  list of string ['i', 'am', 'fine','dear','how','are','you']\n",
      "new list =  ['how', 'are', 'fine', 'dear', 'you']\n"
     ]
    }
   ],
   "source": [
    "lst  = eval(input (\"Enter the  list of string \"))\n",
    "for i in range(len(lst)) :\n",
    "    lst [i==4] = lst [ i ] [:3]\n",
    "print(\"new list = \",list(set(lst)))"
   ]
  },
  {
   "cell_type": "markdown",
   "metadata": {},
   "source": [
    "## Q12"
   ]
  },
  {
   "cell_type": "code",
   "execution_count": 11,
   "metadata": {},
   "outputs": [
    {
     "name": "stdout",
     "output_type": "stream",
     "text": [
      "4.25\n"
     ]
    }
   ],
   "source": [
    "List=[[3, 1, 6, 5], \n",
    "     [5, 2, 9, 1], \n",
    "     [4, 8, 7, 6], \n",
    "     [2, 6, 3, 0]]\n",
    "\n",
    "def Average(lst):\n",
    "    total_sum = sum([sum(i) for i in lst])\n",
    "    # make the sum of inner lists, store them in the list and then get the sum of final list\n",
    "\n",
    "    count = sum([len(i) for i in lst]) # get the total element in the list\n",
    "    return total_sum/count # return average\n",
    "\n",
    "print(Average(List))"
   ]
  },
  {
   "cell_type": "markdown",
   "metadata": {},
   "source": [
    "## Q13 (a)"
   ]
  },
  {
   "cell_type": "code",
   "execution_count": 93,
   "metadata": {},
   "outputs": [
    {
     "data": {
      "text/plain": [
       "array([[ 1, 92, 24, 47, 42,  7, 91, 45, 99, 25],\n",
       "       [48, 66,  1, 79, 11, 56, 77, 91, 62, 34],\n",
       "       [23, 91, 16, 67, 56, 29, 55, 92, 47, 39],\n",
       "       [52, 12, 81, 33, 84, 55, 84, 58, 89, 25],\n",
       "       [14, 48, 33, 90, 52, 69, 71, 47, 70,  2],\n",
       "       [85, 27,  4, 28, 10, 23, 38, 79, 74, 37],\n",
       "       [74, 43, 63, 91, 45, 37, 87,  8, 37,  6],\n",
       "       [42, 79,  4, 81, 60, 51, 54,  8, 46, 91],\n",
       "       [ 4, 80, 31, 29, 21, 64, 67, 40, 74, 77],\n",
       "       [92, 86, 31,  5, 40, 17, 81, 28, 27, 59]])"
      ]
     },
     "execution_count": 93,
     "metadata": {},
     "output_type": "execute_result"
    }
   ],
   "source": [
    "import numpy as np\n",
    "randint_List=np.random.randint(1,100,100)\n",
    "randint_List\n",
    "## Reshaping array\n",
    "Reshape_List=randint_List.reshape(10,10)\n",
    "Reshape_List"
   ]
  },
  {
   "cell_type": "markdown",
   "metadata": {},
   "source": [
    "## Q13 (b)"
   ]
  },
  {
   "cell_type": "code",
   "execution_count": 94,
   "metadata": {},
   "outputs": [
    {
     "name": "stdout",
     "output_type": "stream",
     "text": [
      " largest value in the third row: 92\n"
     ]
    }
   ],
   "source": [
    "Reshape_List.sort() \n",
    "print(\" largest value in the third row:\", max(Reshape_List[2,:]))"
   ]
  },
  {
   "cell_type": "markdown",
   "metadata": {},
   "source": [
    "## Q13(c)"
   ]
  },
  {
   "cell_type": "code",
   "execution_count": 99,
   "metadata": {},
   "outputs": [
    {
     "name": "stdout",
     "output_type": "stream",
     "text": [
      "smallest value in the sixth column: 37\n"
     ]
    }
   ],
   "source": [
    "Reshape_List.sort() \n",
    "print(\"smallest value in the sixth column:\", min(Reshape_List[:,5]))"
   ]
  },
  {
   "cell_type": "markdown",
   "metadata": {},
   "source": [
    "## Q14"
   ]
  },
  {
   "cell_type": "code",
   "execution_count": 9,
   "metadata": {},
   "outputs": [
    {
     "name": "stdout",
     "output_type": "stream",
     "text": [
      "30274\n"
     ]
    }
   ],
   "source": [
    "def common(a,b):\n",
    "    count = [a[i] for i in range(5) if a[i] == b[i]]\n",
    "    return len(count)\n",
    "l = ['01265','12171', '23257', '34548', '45970', '56236', '67324', '78084', '89872', '99414']\n",
    "for i in range(10000, 100000):\n",
    "    for x in l:\n",
    "        if common(str(i), x) != 1:\n",
    "            break\n",
    "    else:\n",
    "        print(i)"
   ]
  },
  {
   "cell_type": "markdown",
   "metadata": {},
   "source": [
    "## Q15"
   ]
  },
  {
   "cell_type": "code",
   "execution_count": 147,
   "metadata": {},
   "outputs": [
    {
     "name": "stdout",
     "output_type": "stream",
     "text": [
      "1 0 1 0 1\n",
      "1 0 1 0 1\n",
      "1 0 1 0 1\n",
      "1 0 1 0 1\n",
      "1 0 1 0 1\n",
      "ROW:3\n",
      "COL:3\n",
      "MISS\n"
     ]
    }
   ],
   "source": [
    "from random import randint\n",
    "\n",
    "LIST=[]\n",
    "\n",
    "for x in range(5):\n",
    "    LIST.append([\"1\",\"0\",\"1\",\"0\",\"1\"])\n",
    "    \n",
    "def grid(LIST):\n",
    "    for row in LIST:\n",
    "        print((\" \").join(row))\n",
    "        \n",
    "grid(LIST)\n",
    "\n",
    "row=randint(0,4)\n",
    "column=randint(0,len(LIST[0])-1)\n",
    "\n",
    "\n",
    "r=int(input(\"ROW:\"))\n",
    "c=int(input(\"COL:\")) \n",
    "            \n",
    "if  r==row and c==column:\n",
    "        print(\"HIT\") \n",
    "else:\n",
    "    print(\"MISS\")  "
   ]
  },
  {
   "cell_type": "markdown",
   "metadata": {},
   "source": [
    "### Q16"
   ]
  },
  {
   "cell_type": "code",
   "execution_count": 192,
   "metadata": {},
   "outputs": [
    {
     "name": "stdout",
     "output_type": "stream",
     "text": [
      "['@', '5', '#', 'A', 'A', '!'] ['$', 'N', 'x', '!', 'N', 'z'] ['0', '-', '+', '#', 'b', ':'] ['5', '0', 'b', '@', '$', 'Z'] ['-', '+', ':', 'c', 'c', 'x'] "
     ]
    },
    {
     "data": {
      "text/plain": [
       "array([['@', '5', '#', 'A', 'A', '!'],\n",
       "       ['5', '0', 'b', '@', '$', 'Z'],\n",
       "       ['$', 'N', 'x', '!', 'N', 'z'],\n",
       "       ['0', '-', '+', '#', 'b', ':'],\n",
       "       ['-', '+', ':', 'c', 'c', 'x']], dtype='<U1')"
      ]
     },
     "execution_count": 192,
     "metadata": {},
     "output_type": "execute_result"
    }
   ],
   "source": [
    "class Word(object): \n",
    "    def __init__(self, string, index): \n",
    "        self.string = string \n",
    "        self.index = index \n",
    "  \n",
    "# Create a DupArray object that contains an array \n",
    "# of Words \n",
    "def createDupArray(string, size): \n",
    "    dupArray = [] \n",
    "  \n",
    "    # One by one copy words from the given wordArray \n",
    "    # to dupArray \n",
    "    for i in range(size): \n",
    "        dupArray.append(Word(string[i], i)) \n",
    "  \n",
    "    return dupArray \n",
    "  \n",
    "# Given a list of words in wordArr[] \n",
    "def printAnagramsTogether(wordArr, size): \n",
    "    # Step 1: Create a copy of all words present in \n",
    "    # given wordArr. \n",
    "    # The copy will also have original indexes of words \n",
    "    dupArray = createDupArray(wordArr, size) \n",
    "  \n",
    "    # Step 2: Iterate through all words in dupArray and sort \n",
    "    # individual words. \n",
    "    for i in range(size): \n",
    "        dupArray[i].string = ''.join(sorted(dupArray[i].string)) \n",
    "  \n",
    "    # Step 3: Now sort the array of words in dupArray \n",
    "    dupArray = sorted(dupArray, key = lambda k: k.string) \n",
    "  \n",
    "    # Step 4: Now all words in dupArray are together, but \n",
    "    # these words are changed. Use the index member of word \n",
    "    # struct to get the corresponding original word \n",
    "    for word in dupArray: \n",
    "          print(wordArr[word.index], end=\" \") \n",
    "  \n",
    "# Driver program \n",
    "wordArr =([[\"@\",\"5\",\"#\", \"A\" ,\"A\", \"!\"],[\"5\", \"0\", \"b\", \"@\", \"$\" ,\"Z\"] ,[\"$\", \"N\", \"x\", \"!\",\"N\",\"z\"],[\"0\",\"-\",\"+\",\"#\", \"b\" ,\":\"],[\"-\",\"+\"\n",
    " ,\":\", \"c\",\"c\", \"x\"]])\n",
    "size = len(wordArr) \n",
    "printAnagramsTogether(wordArr,size) \n",
    "import numpy as np\n",
    "wordArr=np.array([[\"@\",\"5\",\"#\", \"A\" ,\"A\", \"!\"],[\"5\", \"0\", \"b\", \"@\", \"$\" ,\"Z\"] ,[\"$\", \"N\", \"x\", \"!\",\"N\",\"z\"],[\"0\",\"-\",\"+\",\"#\", \"b\" ,\":\"],[\"-\",\"+\"\n",
    " ,\":\", \"c\",\"c\", \"x\"]])\n",
    "wordArr"
   ]
  },
  {
   "cell_type": "markdown",
   "metadata": {},
   "source": [
    "## Q17"
   ]
  },
  {
   "cell_type": "code",
   "execution_count": 4,
   "metadata": {},
   "outputs": [
    {
     "name": "stdout",
     "output_type": "stream",
     "text": [
      "It's a magic Square\n"
     ]
    }
   ],
   "source": [
    "def magic_square_test(my_matrix):\n",
    "    iSize = len(my_matrix[0])\n",
    "    sum_list = []\n",
    "    \n",
    "    #Horizontal Part:\n",
    "    sum_list.extend([sum (lines) for lines in my_matrix])   \n",
    "\n",
    "    #Vertical Part:\n",
    "    for col in range(iSize):\n",
    "        sum_list.append(sum(row[col] for row in my_matrix))\n",
    "    \n",
    "    #Diagonals Part\n",
    "    result1 = 0\n",
    "    for i in range(0,iSize):\n",
    "        result1 +=my_matrix[i][i]\n",
    "    sum_list.append(result1)  \n",
    "    \n",
    "    result2 = 0\n",
    "    for i in range(iSize-1,-1,-1):\n",
    "        result2 +=my_matrix[i][i]\n",
    "    sum_list.append(result2)\n",
    "\n",
    "    if len(set(sum_list))>1:\n",
    "        return (\"Not a magic Square\")\n",
    "    return (\"It's a magic Square\")\n",
    "\n",
    "m=[[7, 12, 1, 14], \n",
    "   [2, 13, 8, 11], \n",
    "   [16, 3, 10, 5], \n",
    "   [9, 6, 15, 4]] \n",
    "print(magic_square_test(m));"
   ]
  },
  {
   "cell_type": "markdown",
   "metadata": {},
   "source": [
    "## THE END"
   ]
  }
 ],
 "metadata": {
  "kernelspec": {
   "display_name": "Python 3",
   "language": "python",
   "name": "python3"
  },
  "language_info": {
   "codemirror_mode": {
    "name": "ipython",
    "version": 3
   },
   "file_extension": ".py",
   "mimetype": "text/x-python",
   "name": "python",
   "nbconvert_exporter": "python",
   "pygments_lexer": "ipython3",
   "version": "3.7.6"
  }
 },
 "nbformat": 4,
 "nbformat_minor": 4
}
