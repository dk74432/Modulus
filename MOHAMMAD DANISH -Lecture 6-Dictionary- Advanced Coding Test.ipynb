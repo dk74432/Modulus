{
 "cells": [
  {
   "cell_type": "markdown",
   "metadata": {},
   "source": [
    "<h2 style=\"color:Red\"> Lecture 6 -Advance Coding Test</h2>"
   ]
  },
  {
   "cell_type": "markdown",
   "metadata": {},
   "source": [
    "## Q1"
   ]
  },
  {
   "cell_type": "code",
   "execution_count": 1,
   "metadata": {},
   "outputs": [
    {
     "name": "stdout",
     "output_type": "stream",
     "text": [
      "Vowels: 10\n",
      "Consonant: 18\n",
      "Digit: 2\n",
      "Blank Space: 5\n",
      "Length of the input string is: 35\n"
     ]
    }
   ],
   "source": [
    "def countCharacterType(str):\n",
    "  \n",
    " # Vowels, Consonants, Blank Space, Digit and Length of the input string\n",
    "    # characters \n",
    "    vowels = 0\n",
    "    consonant = 0\n",
    "    blank_space= 0\n",
    "    digit = 0\n",
    "   \n",
    "    for i in range(0, len(str)):  \n",
    "          \n",
    "        ch = str[i]  \n",
    "  \n",
    "        if ( (ch >= 'a' and ch <= 'z') or \n",
    "             (ch >= 'A' and ch <= 'Z') ):  \n",
    "  \n",
    "            # To handle upper case letters \n",
    "            ch = ch.lower() \n",
    "  \n",
    "            if (ch == 'a' or ch == 'e' or ch == 'i' \n",
    "                        or ch == 'o' or ch == 'u'): \n",
    "                vowels += 1\n",
    "            else: \n",
    "                consonant += 1\n",
    "          \n",
    "        elif (ch >= '0' and ch <= '9'): \n",
    "            digit += 1\n",
    "\n",
    "        else: \n",
    "            blank_space+= 1\n",
    " # Length of String           \n",
    "            string_length = 0\n",
    "\n",
    "            for s in str:\n",
    "               string_length  =string_length +1\n",
    "                \n",
    "                \n",
    "    print(\"Vowels:\", vowels) \n",
    "    print(\"Consonant:\", consonant)  \n",
    "    print(\"Digit:\", digit)  \n",
    "    print(\"Blank Space:\",blank_space) \n",
    "    print(\"Length of the input string is:\", string_length )\n",
    "\n",
    "\n",
    "\n",
    "##Driver function. \n",
    "str = \"Data Science with Python Lecture 10\"\n",
    "countCharacterType(str)  \n",
    "                "
   ]
  },
  {
   "cell_type": "code",
   "execution_count": 2,
   "metadata": {},
   "outputs": [
    {
     "name": "stdout",
     "output_type": "stream",
     "text": [
      "Enter a string : DATA SCIENCE\n",
      "Total words : 2\n"
     ]
    }
   ],
   "source": [
    "ord_count = 0\n",
    "char_count = 0\n",
    "\n",
    "\n",
    "str = input(\"Enter a string : \")\n",
    "\n",
    "\n",
    "split_string = str.split()\n",
    "\n",
    "\n",
    "word_count = len(split_string)\n",
    "\n",
    "\n",
    "for word in split_string:\n",
    "    \n",
    "    char_count += len(word)\n",
    "\n",
    "\n",
    "print(\"Total words : {}\".format(word_count))"
   ]
  },
  {
   "cell_type": "code",
   "execution_count": 3,
   "metadata": {},
   "outputs": [
    {
     "name": "stdout",
     "output_type": "stream",
     "text": [
      "No. of Upper case characters :  4\n"
     ]
    }
   ],
   "source": [
    "def string_test(s):\n",
    "    d={\"UPPER_CASE\":0}\n",
    "    for c in s:\n",
    "        if c.isupper():\n",
    "            d[\"UPPER_CASE\"]+=1\n",
    "        else:\n",
    "            pass\n",
    "    print (\"No. of Upper case characters : \", d[\"UPPER_CASE\"])\n",
    "string_test(\"Data Science With Python\")"
   ]
  },
  {
   "cell_type": "markdown",
   "metadata": {},
   "source": [
    "## Q2"
   ]
  },
  {
   "cell_type": "code",
   "execution_count": null,
   "metadata": {
    "scrolled": true
   },
   "outputs": [
    {
     "name": "stdout",
     "output_type": "stream",
     "text": [
      "Enter a name: Danish\n",
      "Danish\n",
      "Enter roll number: 23\n",
      "Positive number\n",
      "Enter total marks: 456\n",
      "Positive number\n",
      "Please enter a 10-digit number:7869012345\n",
      "{'Danish': [23, 456, '7869012345']}\n",
      "Enter a name: Ronit\n",
      "Ronit\n",
      "Enter roll number: 24\n",
      "Positive number\n",
      "Enter total marks: 399\n",
      "Positive number\n",
      "Please enter a 10-digit number:7890234156\n",
      "{'Ronit': [24, 399, '7890234156']}\n"
     ]
    }
   ],
   "source": [
    "class n:\n",
    "    def getData(student,name,roll_no,total_marks):\n",
    "        n.name=name\n",
    "        n.roll_no=roll_no\n",
    "        n.Phone_number=Phone_number\n",
    "        n.total_marks=total_marks\n",
    "    \n",
    "    def dispalyData(student):\n",
    "        print(\"Name of Student is:\",n.name)\n",
    "        print(\"Roll number is :\",n.roll_no)\n",
    "        print(\"Phone number is :\",n.Phone_number)\n",
    "        print(\"Total marks is :\",n.total_marks)\n",
    "        \n",
    "while True:    \n",
    "    name = str(input(\"Enter a name: \"))\n",
    "    if name==\" \":\n",
    "            break\n",
    "    else:\n",
    "        print(name)\n",
    "## To check Roll No. is positive or not?\n",
    "    roll_no = int(input(\"Enter roll number: \"))\n",
    "    if roll_no > 0:\n",
    "        print(\"Positive number\")\n",
    "    elif roll_no == 0:\n",
    "        print(\"Zero\")\n",
    "    else:\n",
    "        print(\"Negative number\")\n",
    "    \n",
    "    \n",
    "    \n",
    "\n",
    "## To check Total Marks. is positive or not?\n",
    "\n",
    "    total_marks = int(input(\"Enter total marks: \"))\n",
    "    if 500>=total_marks > 0:\n",
    "        print(\"Positive number\")\n",
    "    elif total_marks == 0:\n",
    "        print(\"Zero\")\n",
    "    else:\n",
    "        print(\"Negative number\")\n",
    "    \n",
    "    \n",
    "## To check Total Marks. is positive or not?\n",
    "\n",
    "    Phone_number = str(input(\"Please enter a 10-digit number:\"))\n",
    "    while (len(Phone_number)!=10):\n",
    "        print (\"Phone_number:\" +  Phone_number[:3] + Phone_number[3:6]+ Phone_number[6:]) \n",
    "    print({name:[roll_no,total_marks,Phone_number]})"
   ]
  },
  {
   "cell_type": "markdown",
   "metadata": {},
   "source": [
    "## Q3"
   ]
  },
  {
   "cell_type": "code",
   "execution_count": 1,
   "metadata": {},
   "outputs": [
    {
     "name": "stdout",
     "output_type": "stream",
     "text": [
      "enter the first value 98.3\n",
      "enter the first value 98.4\n",
      "enter the first value 97.0\n",
      "enter the first value 96.9\n",
      "enter the first value97.6\n",
      "enter the first value 98.7\n",
      "enter the first value 98.3\n"
     ]
    }
   ],
   "source": [
    "m=float(input(\"enter the first value\"))\n",
    "t=float(input(\"enter the first value\"))\n",
    "w=float(input(\"enter the first value\"))\n",
    "th=float(input(\"enter the first value\"))\n",
    "f=float(input(\"enter the first value\"))\n",
    "s=float(input(\"enter the first value\"))\n",
    "su=float(input(\"enter the first value\"))\n",
    "avg_temp_WEEKDAYS=(m+t+w+th+f)/5\n",
    "avg_temp_WEEKEND=(s+su)/2"
   ]
  },
  {
   "cell_type": "code",
   "execution_count": 2,
   "metadata": {},
   "outputs": [
    {
     "data": {
      "text/plain": [
       "{'weekdays': 97.64000000000001}"
      ]
     },
     "execution_count": 2,
     "metadata": {},
     "output_type": "execute_result"
    }
   ],
   "source": [
    "{\"weekdays\":avg_temp_WEEKDAYS }"
   ]
  },
  {
   "cell_type": "code",
   "execution_count": 3,
   "metadata": {},
   "outputs": [
    {
     "data": {
      "text/plain": [
       "{'weekend': 98.5}"
      ]
     },
     "execution_count": 3,
     "metadata": {},
     "output_type": "execute_result"
    }
   ],
   "source": [
    "{\"weekend\":avg_temp_WEEKEND }"
   ]
  },
  {
   "cell_type": "markdown",
   "metadata": {},
   "source": [
    "## Q4"
   ]
  },
  {
   "cell_type": "code",
   "execution_count": 9,
   "metadata": {},
   "outputs": [
    {
     "name": "stdout",
     "output_type": "stream",
     "text": [
      "Enter the key to be searched: Ramesh\n",
      "Name not exist!\n",
      "Updated Friend list:  {'Roy': 12345678999, 'Rohan': 2341567895, 'Rahul': 3456789120, 'Rohit': 4567891230, 'Ramesh': '7891234560'}\n"
     ]
    }
   ],
   "source": [
    "Friends = {'Roy':12345678999, 'Rohan':2341567895, 'Rahul':3456789120, 'Rohit':4567891230}\n",
    "\n",
    "My_key = input(\"Enter the key to be searched: \")\n",
    " \n",
    "try:\n",
    "    Friends[My_key]\n",
    "except KeyError:\n",
    "    print(\"Name not exist!\")\n",
    "    Friends['Ramesh'] = '7891234560'\n",
    "    print(\"Updated Friend list: \",Friends)  \n",
    "else:\n",
    "    print(\"Name present!\")"
   ]
  },
  {
   "cell_type": "markdown",
   "metadata": {},
   "source": [
    "## Q5"
   ]
  },
  {
   "cell_type": "code",
   "execution_count": 3,
   "metadata": {},
   "outputs": [
    {
     "name": "stdout",
     "output_type": "stream",
     "text": [
      "Enter the key to be searched: guava\n",
      "Name not exist!\n"
     ]
    }
   ],
   "source": [
    "addfruit = {'mango':40,'banana':10,'Apple':20,'papaya':70,'orange':45}\n",
    "\n",
    "My_Keys = str(input(\"Enter the key to be searched: \"))\n",
    " \n",
    "try:\n",
    "    addfruit[My_Keys]\n",
    "except KeyError:\n",
    "    print(\"Name not exist!\")\n",
    "else:\n",
    "    print(\"Name present!\") "
   ]
  },
  {
   "cell_type": "code",
   "execution_count": 4,
   "metadata": {},
   "outputs": [
    {
     "name": "stdout",
     "output_type": "stream",
     "text": [
      "papaya\n",
      "banana\n"
     ]
    }
   ],
   "source": [
    "addfruit = {'mango':40,'banana':15,'Apple':20,'papaya':70,'orange':45}\n",
    "\n",
    "# get key with max value and min value \n",
    "\n",
    "Most_expensive = max(addfruit, key=addfruit.get)\n",
    "Least_expensive= min(addfruit, key=addfruit.get)\n",
    "print(Most_expensive)\n",
    "print(Least_expensive)"
   ]
  },
  {
   "cell_type": "code",
   "execution_count": 3,
   "metadata": {},
   "outputs": [
    {
     "name": "stdout",
     "output_type": "stream",
     "text": [
      "70\n",
      "15\n"
     ]
    }
   ],
   "source": [
    "all_values = addfruit.values()\n",
    "Most_expensive = max(all_values)\n",
    "Least_expensive=min(all_values)\n",
    "\n",
    "print(Most_expensive)\n",
    "print(Least_expensive)"
   ]
  },
  {
   "cell_type": "markdown",
   "metadata": {},
   "source": [
    "<h2 style=\"color:Red\"> THE END </h2>"
   ]
  }
 ],
 "metadata": {
  "kernelspec": {
   "display_name": "Python 3",
   "language": "python",
   "name": "python3"
  },
  "language_info": {
   "codemirror_mode": {
    "name": "ipython",
    "version": 3
   },
   "file_extension": ".py",
   "mimetype": "text/x-python",
   "name": "python",
   "nbconvert_exporter": "python",
   "pygments_lexer": "ipython3",
   "version": "3.8.3"
  }
 },
 "nbformat": 4,
 "nbformat_minor": 4
}
