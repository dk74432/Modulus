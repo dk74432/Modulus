{
 "cells": [
  {
   "cell_type": "markdown",
   "metadata": {},
   "source": [
    "<h2 style=\"color:Red\"> Lecture 6 -Intermediate Coding Test</h2>"
   ]
  },
  {
   "cell_type": "markdown",
   "metadata": {},
   "source": [
    "## Q1"
   ]
  },
  {
   "cell_type": "code",
   "execution_count": 1,
   "metadata": {},
   "outputs": [
    {
     "name": "stdout",
     "output_type": "stream",
     "text": [
      "Enter name & score separated by \":\" key1:123\n",
      "{'key1:123'}\n",
      "Enter name & score separated by \":\" key2:456\n",
      "{'key2:456'}\n",
      "Enter name & score separated by \":\" key3:789\n",
      "{'key3:789'}\n",
      "Enter name & score separated by \":\" STOP\n"
     ]
    }
   ],
   "source": [
    "while True:\n",
    "    data=input('Enter name & score separated by \":\" ') \n",
    "    \n",
    "    if data=='STOP':\n",
    "            break\n",
    "    else:\n",
    "        string=data.partition(' ')[0]\n",
    "        num=data.partition(' ')[2]\n",
    "        print({data})"
   ]
  },
  {
   "cell_type": "markdown",
   "metadata": {},
   "source": [
    "## Q2"
   ]
  },
  {
   "cell_type": "code",
   "execution_count": 2,
   "metadata": {},
   "outputs": [
    {
     "name": "stdout",
     "output_type": "stream",
     "text": [
      "key : key1, Value : 123\n",
      "key : Key2, Value : 456\n",
      "key : Key3, Value : 789\n"
     ]
    }
   ],
   "source": [
    "def main():\n",
    "    dictionary ={'key1': 123, 'Key2':456, 'Key3':789} \n",
    "       \n",
    "    #print key n values\n",
    "    for k, v in dictionary.items():\n",
    "        print(\"key : {0}, Value : {1}\".format(k, v))\n",
    "    \n",
    "if __name__ == '__main__':\n",
    "    main()"
   ]
  },
  {
   "cell_type": "code",
   "execution_count": 19,
   "metadata": {},
   "outputs": [
    {
     "name": "stdout",
     "output_type": "stream",
     "text": [
      "789\n",
      "123\n",
      "1368\n"
     ]
    }
   ],
   "source": [
    "#### for sum,max & min value\n",
    "\n",
    "dictionary = {'key1': 123, 'Key2':456, 'Key3':789} \n",
    "\n",
    "all_values = dictionary.values()\n",
    "max_value = max(all_values)\n",
    "min_value=min(all_values)\n",
    "sum_value=sum(all_values)\n",
    "\n",
    "print(max_value)\n",
    "print(min_value)\n",
    "print(sum_value) "
   ]
  },
  {
   "cell_type": "markdown",
   "metadata": {},
   "source": [
    "## Q3"
   ]
  },
  {
   "cell_type": "code",
   "execution_count": 3,
   "metadata": {},
   "outputs": [
    {
     "name": "stdout",
     "output_type": "stream",
     "text": [
      "{'Cat': 3, 'Bat': 1, 'Sat': 2, 'Mat': 1}\n"
     ]
    }
   ],
   "source": [
    "lst = ['Cat', 'Bat', 'Sat', 'Cat', 'Mat', 'Cat', 'Sat'] \n",
    "  \n",
    "# To get the number of occurrences  of each item in a dictionary \n",
    "print (dict( (l, lst.count(l) ) for l in set(lst))) "
   ]
  },
  {
   "cell_type": "markdown",
   "metadata": {},
   "source": [
    "## Q4"
   ]
  },
  {
   "cell_type": "code",
   "execution_count": 4,
   "metadata": {},
   "outputs": [
    {
     "name": "stdout",
     "output_type": "stream",
     "text": [
      "{'Modulus': 1, 'is': 1, 'provding': 1, 'the': 1, 'best': 1, 'Online': 1, 'course': 1, 'for': 1, 'AI': 1, '&': 1, 'DS': 1, 'aspirants': 1, '.': 1}\n"
     ]
    }
   ],
   "source": [
    "def word_count(str):\n",
    "    counts = dict()\n",
    "    words = str.split()\n",
    "\n",
    "    for word in words:\n",
    "        if word in counts:\n",
    "            counts[word] += 1\n",
    "        else:\n",
    "            counts[word] = 1\n",
    "\n",
    "    return counts\n",
    "print( word_count('Modulus is provding the best Online course for AI & DS aspirants .'))"
   ]
  },
  {
   "cell_type": "markdown",
   "metadata": {},
   "source": [
    "## Q5"
   ]
  },
  {
   "cell_type": "code",
   "execution_count": 5,
   "metadata": {},
   "outputs": [
    {
     "name": "stdout",
     "output_type": "stream",
     "text": [
      "Input a number 10\n",
      "{1: 1, 2: 4, 3: 9, 4: 16, 5: 25, 6: 36, 7: 49, 8: 64, 9: 81, 10: 100}\n"
     ]
    }
   ],
   "source": [
    "n=int(input(\"Input a number \"))\n",
    "dic = dict()\n",
    "\n",
    "for x in range(1,n+1):\n",
    "    dic[x]=x*x\n",
    "\n",
    "print(dic) "
   ]
  },
  {
   "cell_type": "markdown",
   "metadata": {},
   "source": [
    "## Q6"
   ]
  },
  {
   "cell_type": "code",
   "execution_count": 6,
   "metadata": {},
   "outputs": [
    {
     "name": "stdout",
     "output_type": "stream",
     "text": [
      "{'akash': [10], 'gaurav': [12], 'anand': [14], 'suraj': [20], 'akhil': [25], 'ashish': [30]}\n"
     ]
    }
   ],
   "source": [
    "def Convert(tup, di): \n",
    "    for a, b in tup: \n",
    "        di.setdefault(a, []).append(b) \n",
    "    return di \n",
    "      \n",
    "# Driver Code     \n",
    "tups = [(\"akash\", 10), (\"gaurav\", 12), (\"anand\", 14),  \n",
    "     (\"suraj\", 20), (\"akhil\", 25), (\"ashish\", 30)] \n",
    "dictionary = {} \n",
    "print (Convert(tups, dictionary)) "
   ]
  },
  {
   "cell_type": "code",
   "execution_count": 7,
   "metadata": {},
   "outputs": [
    {
     "data": {
      "text/plain": [
       "{'akash': 10,\n",
       " 'gaurav': 12,\n",
       " 'anand': 14,\n",
       " 'suraj': 20,\n",
       " 'akhil': 25,\n",
       " 'ashish': 30}"
      ]
     },
     "execution_count": 7,
     "metadata": {},
     "output_type": "execute_result"
    }
   ],
   "source": [
    "my_list = [(\"akash\", 10), (\"gaurav\", 12), (\"anand\", 14),  \n",
    "     (\"suraj\", 20), (\"akhil\", 25), (\"ashish\", 30)] \n",
    "dict(my_list)"
   ]
  },
  {
   "cell_type": "markdown",
   "metadata": {},
   "source": [
    "## Q7"
   ]
  },
  {
   "cell_type": "code",
   "execution_count": 8,
   "metadata": {},
   "outputs": [
    {
     "data": {
      "text/plain": [
       "'NEW DELHI'"
      ]
     },
     "execution_count": 8,
     "metadata": {},
     "output_type": "execute_result"
    }
   ],
   "source": [
    "Country_list={\"INDIA\":\"NEW DELHI\",\"FRANCE\":\"PARIS\",\"GERMANY\": \"BERLIN\",\"ITALY\":\"ROME\",\"SPAIN\":\"MADRID\"}\n",
    "Country_list[\"INDIA\"]"
   ]
  },
  {
   "cell_type": "code",
   "execution_count": 9,
   "metadata": {},
   "outputs": [
    {
     "data": {
      "text/plain": [
       "'PARIS'"
      ]
     },
     "execution_count": 9,
     "metadata": {},
     "output_type": "execute_result"
    }
   ],
   "source": [
    "Country_list[\"FRANCE\"]"
   ]
  },
  {
   "cell_type": "code",
   "execution_count": 10,
   "metadata": {},
   "outputs": [
    {
     "data": {
      "text/plain": [
       "'BERLIN'"
      ]
     },
     "execution_count": 10,
     "metadata": {},
     "output_type": "execute_result"
    }
   ],
   "source": [
    "Country_list[\"GERMANY\"]"
   ]
  },
  {
   "cell_type": "markdown",
   "metadata": {},
   "source": [
    "## Q8"
   ]
  },
  {
   "cell_type": "code",
   "execution_count": null,
   "metadata": {
    "scrolled": true
   },
   "outputs": [
    {
     "name": "stdout",
     "output_type": "stream",
     "text": [
      "Please input a key: SUNDAY\n",
      "Please input a value: 234\n",
      " \n",
      "{'SUNDAY': '234'}\n",
      "Please input a key: MONDAY\n",
      "Please input a value: 344\n",
      " \n",
      "{'MONDAY': '344'}\n",
      "Please input a key: TUESDAY\n",
      "Please input a value: 341\n",
      " \n",
      "{'TUESDAY': '341'}\n",
      "Please input a key: WEDNESDAY\n",
      "Please input a value: 437\n",
      " \n",
      "{'WEDNESDAY': '437'}\n",
      "Please input a key: THURSDAY\n",
      "Please input a value: 231\n",
      " \n",
      "{'THURSDAY': '231'}\n",
      "Please input a key: FRIDAY\n",
      "Please input a value: 113\n",
      " \n",
      "{'FRIDAY': '113'}\n",
      "Please input a key: SATURDAY\n",
      "Please input a value: 321\n",
      " \n",
      "{'SATURDAY': '321'}\n",
      "Please input a key: STOP\n",
      "Please input a value: \n",
      " \n",
      "{'STOP': ''}\n"
     ]
    }
   ],
   "source": [
    "while True:\n",
    "    DAY=str(input(\"Please input a key: \"))\n",
    "    AQI=str(input(\"Please input a value: \"))\n",
    "    if DAY==str(input(\" \")):\n",
    "        break\n",
    "    else:\n",
    "        class_list=({DAY:AQI})\n",
    "        print(class_list)        "
   ]
  },
  {
   "cell_type": "code",
   "execution_count": 3,
   "metadata": {},
   "outputs": [
    {
     "name": "stdout",
     "output_type": "stream",
     "text": [
      "Enter DAY & AQI separated by \":\" SUNDAY:234\n",
      "{'SUNDAY:234'}\n",
      "Enter DAY & AQI separated by \":\" MONDAY:344\n",
      "{'MONDAY:344'}\n",
      "Enter DAY & AQI separated by \":\" TUESDAY:341\n",
      "{'TUESDAY:341'}\n",
      "Enter DAY & AQI separated by \":\" WEDNESDAY:437\n",
      "{'WEDNESDAY:437'}\n",
      "Enter DAY & AQI separated by \":\" THURSDAY:231\n",
      "{'THURSDAY:231'}\n",
      "Enter DAY & AQI separated by \":\" FRIDAY:113\n",
      "{'FRIDAY:113'}\n",
      "Enter DAY & AQI separated by \":\" SATURDAY:321\n",
      "{'SATURDAY:321'}\n",
      "Enter DAY & AQI separated by \":\" STOP\n"
     ]
    }
   ],
   "source": [
    "dictionary=dict()\n",
    "while True:\n",
    "    data=input('Enter DAY & AQI separated by \":\" ') \n",
    "    \n",
    "    if data=='STOP':\n",
    "            break\n",
    "    else:\n",
    "        string=data.partition(' ')[0]\n",
    "        num=data.partition(' ')[2]\n",
    "        print({data})"
   ]
  },
  {
   "cell_type": "markdown",
   "metadata": {},
   "source": [
    "## Q9"
   ]
  },
  {
   "cell_type": "code",
   "execution_count": 1,
   "metadata": {},
   "outputs": [
    {
     "name": "stdout",
     "output_type": "stream",
     "text": [
      "{'JIMMY': '@123', 'MANPREET': '@123', 'ROHIT': '@123', 'JOHN': '@123', 'DANISH': '@123'}\n"
     ]
    }
   ],
   "source": [
    "keys = {'DANISH', 'ROHIT', 'JOHN', 'MANPREET', 'JIMMY'}\n",
    "values=\"@123\"\n",
    "password = dict.fromkeys(keys,values)\n",
    "print(password)"
   ]
  },
  {
   "cell_type": "code",
   "execution_count": 2,
   "metadata": {},
   "outputs": [
    {
     "name": "stdout",
     "output_type": "stream",
     "text": [
      "password  = {}\n"
     ]
    }
   ],
   "source": [
    "password = {'DANISH': '@123', 'JOHN': '@123', 'ROHIT': '@123', 'JIMMY': '@123', 'MANPREET': '@123'}\n",
    "\n",
    "password .clear()\n",
    "print('password  =', password )"
   ]
  },
  {
   "cell_type": "markdown",
   "metadata": {},
   "source": [
    "<h2 style=\"color:Orange\"> THE END</h2>"
   ]
  }
 ],
 "metadata": {
  "kernelspec": {
   "display_name": "Python 3",
   "language": "python",
   "name": "python3"
  },
  "language_info": {
   "codemirror_mode": {
    "name": "ipython",
    "version": 3
   },
   "file_extension": ".py",
   "mimetype": "text/x-python",
   "name": "python",
   "nbconvert_exporter": "python",
   "pygments_lexer": "ipython3",
   "version": "3.8.3"
  }
 },
 "nbformat": 4,
 "nbformat_minor": 4
}
